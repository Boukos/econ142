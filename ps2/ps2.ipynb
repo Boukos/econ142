{
 "cells": [
  {
   "cell_type": "markdown",
   "metadata": {},
   "source": [
    "# Econ C142 Problem Set 2\n",
    "# Sahil Chinoy"
   ]
  },
  {
   "cell_type": "code",
   "execution_count": 1,
   "metadata": {
    "collapsed": true
   },
   "outputs": [],
   "source": [
    "%matplotlib inline\n",
    "import math\n",
    "import scipy\n",
    "import numpy as np\n",
    "import pandas as pd\n",
    "import statsmodels.api as sm\n",
    "import matplotlib.pyplot as plt"
   ]
  },
  {
   "cell_type": "code",
   "execution_count": 2,
   "metadata": {},
   "outputs": [],
   "source": [
    "# Import the data\n",
    "df = pd.read_stata('Brazil_1996PNAD_PS2.dta')"
   ]
  },
  {
   "cell_type": "markdown",
   "metadata": {},
   "source": [
    "## Part (a)"
   ]
  },
  {
   "cell_type": "code",
   "execution_count": 3,
   "metadata": {
    "collapsed": true
   },
   "outputs": [],
   "source": [
    "# Add a constant\n",
    "df = sm.add_constant(df)\n",
    "# Note: we cannot take the log of monthly earnings directly, since it is sometimes zero. \n",
    "# So, we drop these observations\n",
    "df = df[df['MONTHLY_EARNINGS'] > 0]\n",
    "# and then take the log\n",
    "df['LOG_MONTHLY_EARNINGS'] = np.log(df['MONTHLY_EARNINGS'])\n",
    "# Total number of observations\n",
    "N = len(df)\n",
    "# Endogenous variable: log monthly earnings\n",
    "y = df['LOG_MONTHLY_EARNINGS']\n",
    "# Exogenous variables...\n",
    "X = pd.DataFrame()\n",
    "# ... constant\n",
    "X['c'] = df['const']\n",
    "# ... years of schooling\n",
    "X['YRSSCH'] = df['YRSSCH']\n",
    "# ... age\n",
    "X['AgeInDays'] = df['AgeInDays']\n",
    "# ... age squared\n",
    "X['AgeInDays_Squared'] = df['AgeInDays']**2"
   ]
  },
  {
   "cell_type": "code",
   "execution_count": 4,
   "metadata": {},
   "outputs": [
    {
     "data": {
      "text/html": [
       "<table class=\"simpletable\">\n",
       "<caption>OLS Regression Results</caption>\n",
       "<tr>\n",
       "  <th>Dep. Variable:</th>    <td>LOG_MONTHLY_EARNINGS</td> <th>  R-squared:         </th> <td>   0.420</td> \n",
       "</tr>\n",
       "<tr>\n",
       "  <th>Model:</th>                     <td>OLS</td>         <th>  Adj. R-squared:    </th> <td>   0.420</td> \n",
       "</tr>\n",
       "<tr>\n",
       "  <th>Method:</th>               <td>Least Squares</td>    <th>  F-statistic:       </th> <td>1.340e+04</td>\n",
       "</tr>\n",
       "<tr>\n",
       "  <th>Date:</th>               <td>Wed, 03 May 2017</td>   <th>  Prob (F-statistic):</th>  <td>  0.00</td>  \n",
       "</tr>\n",
       "<tr>\n",
       "  <th>Time:</th>                   <td>13:34:22</td>       <th>  Log-Likelihood:    </th> <td> -64167.</td> \n",
       "</tr>\n",
       "<tr>\n",
       "  <th>No. Observations:</th>        <td> 55550</td>        <th>  AIC:               </th> <td>1.283e+05</td>\n",
       "</tr>\n",
       "<tr>\n",
       "  <th>Df Residuals:</th>            <td> 55546</td>        <th>  BIC:               </th> <td>1.284e+05</td>\n",
       "</tr>\n",
       "<tr>\n",
       "  <th>Df Model:</th>                <td>     3</td>        <th>                     </th>     <td> </td>    \n",
       "</tr>\n",
       "<tr>\n",
       "  <th>Covariance Type:</th>        <td>nonrobust</td>      <th>                     </th>     <td> </td>    \n",
       "</tr>\n",
       "</table>\n",
       "<table class=\"simpletable\">\n",
       "<tr>\n",
       "          <td></td>             <th>coef</th>     <th>std err</th>      <th>t</th>      <th>P>|t|</th> <th>[95.0% Conf. Int.]</th> \n",
       "</tr>\n",
       "<tr>\n",
       "  <th>c</th>                 <td>    3.0452</td> <td>    0.043</td> <td>   70.501</td> <td> 0.000</td> <td>    2.960     3.130</td>\n",
       "</tr>\n",
       "<tr>\n",
       "  <th>YRSSCH</th>            <td>    0.1456</td> <td>    0.001</td> <td>  185.872</td> <td> 0.000</td> <td>    0.144     0.147</td>\n",
       "</tr>\n",
       "<tr>\n",
       "  <th>AgeInDays</th>         <td>    0.0893</td> <td>    0.002</td> <td>   37.802</td> <td> 0.000</td> <td>    0.085     0.094</td>\n",
       "</tr>\n",
       "<tr>\n",
       "  <th>AgeInDays_Squared</th> <td>   -0.0009</td> <td> 3.04e-05</td> <td>  -29.683</td> <td> 0.000</td> <td>   -0.001    -0.001</td>\n",
       "</tr>\n",
       "</table>\n",
       "<table class=\"simpletable\">\n",
       "<tr>\n",
       "  <th>Omnibus:</th>       <td>1093.915</td> <th>  Durbin-Watson:     </th> <td>   1.593</td>\n",
       "</tr>\n",
       "<tr>\n",
       "  <th>Prob(Omnibus):</th>  <td> 0.000</td>  <th>  Jarque-Bera (JB):  </th> <td>2209.058</td>\n",
       "</tr>\n",
       "<tr>\n",
       "  <th>Skew:</th>           <td> 0.094</td>  <th>  Prob(JB):          </th> <td>    0.00</td>\n",
       "</tr>\n",
       "<tr>\n",
       "  <th>Kurtosis:</th>       <td> 3.959</td>  <th>  Cond. No.          </th> <td>2.23e+04</td>\n",
       "</tr>\n",
       "</table>"
      ],
      "text/plain": [
       "<class 'statsmodels.iolib.summary.Summary'>\n",
       "\"\"\"\n",
       "                             OLS Regression Results                             \n",
       "================================================================================\n",
       "Dep. Variable:     LOG_MONTHLY_EARNINGS   R-squared:                       0.420\n",
       "Model:                              OLS   Adj. R-squared:                  0.420\n",
       "Method:                   Least Squares   F-statistic:                 1.340e+04\n",
       "Date:                  Wed, 03 May 2017   Prob (F-statistic):               0.00\n",
       "Time:                          13:34:22   Log-Likelihood:                -64167.\n",
       "No. Observations:                 55550   AIC:                         1.283e+05\n",
       "Df Residuals:                     55546   BIC:                         1.284e+05\n",
       "Df Model:                             3                                         \n",
       "Covariance Type:              nonrobust                                         \n",
       "=====================================================================================\n",
       "                        coef    std err          t      P>|t|      [95.0% Conf. Int.]\n",
       "-------------------------------------------------------------------------------------\n",
       "c                     3.0452      0.043     70.501      0.000         2.960     3.130\n",
       "YRSSCH                0.1456      0.001    185.872      0.000         0.144     0.147\n",
       "AgeInDays             0.0893      0.002     37.802      0.000         0.085     0.094\n",
       "AgeInDays_Squared    -0.0009   3.04e-05    -29.683      0.000        -0.001    -0.001\n",
       "==============================================================================\n",
       "Omnibus:                     1093.915   Durbin-Watson:                   1.593\n",
       "Prob(Omnibus):                  0.000   Jarque-Bera (JB):             2209.058\n",
       "Skew:                           0.094   Prob(JB):                         0.00\n",
       "Kurtosis:                       3.959   Cond. No.                     2.23e+04\n",
       "==============================================================================\n",
       "\n",
       "Warnings:\n",
       "[1] Standard Errors assume that the covariance matrix of the errors is correctly specified.\n",
       "[2] The condition number is large, 2.23e+04. This might indicate that there are\n",
       "strong multicollinearity or other numerical problems.\n",
       "\"\"\""
      ]
     },
     "execution_count": 4,
     "metadata": {},
     "output_type": "execute_result"
    }
   ],
   "source": [
    "# Compute the least-squares fit\n",
    "res1 = sm.OLS(y, X).fit()\n",
    "res1.summary()"
   ]
  },
  {
   "cell_type": "markdown",
   "metadata": {},
   "source": [
    "We can read off the 95% confidence interval for YRSSCH: $[0.144,0.147]$.\n",
    "\n",
    "The expected difference in log earnings for an individual with no schooling and an individual who has completed primary school is $8 \\cdot 0.146 = 1.17$, or in linear terms, about a 120% increase in earnings."
   ]
  },
  {
   "cell_type": "markdown",
   "metadata": {},
   "source": [
    "## Part (b)"
   ]
  },
  {
   "cell_type": "code",
   "execution_count": 5,
   "metadata": {},
   "outputs": [
    {
     "data": {
      "text/html": [
       "<table class=\"simpletable\">\n",
       "<caption>OLS Regression Results</caption>\n",
       "<tr>\n",
       "  <th>Dep. Variable:</th>    <td>LOG_MONTHLY_EARNINGS</td> <th>  R-squared:         </th> <td>   0.984</td> \n",
       "</tr>\n",
       "<tr>\n",
       "  <th>Model:</th>                     <td>OLS</td>         <th>  Adj. R-squared:    </th> <td>   0.984</td> \n",
       "</tr>\n",
       "<tr>\n",
       "  <th>Method:</th>               <td>Least Squares</td>    <th>  F-statistic:       </th> <td>1.851e+05</td>\n",
       "</tr>\n",
       "<tr>\n",
       "  <th>Date:</th>               <td>Wed, 03 May 2017</td>   <th>  Prob (F-statistic):</th>  <td>  0.00</td>  \n",
       "</tr>\n",
       "<tr>\n",
       "  <th>Time:</th>                   <td>13:34:23</td>       <th>  Log-Likelihood:    </th> <td> -63743.</td> \n",
       "</tr>\n",
       "<tr>\n",
       "  <th>No. Observations:</th>        <td> 55550</td>        <th>  AIC:               </th> <td>1.275e+05</td>\n",
       "</tr>\n",
       "<tr>\n",
       "  <th>Df Residuals:</th>            <td> 55532</td>        <th>  BIC:               </th> <td>1.277e+05</td>\n",
       "</tr>\n",
       "<tr>\n",
       "  <th>Df Model:</th>                <td>    18</td>        <th>                     </th>     <td> </td>    \n",
       "</tr>\n",
       "<tr>\n",
       "  <th>Covariance Type:</th>        <td>nonrobust</td>      <th>                     </th>     <td> </td>    \n",
       "</tr>\n",
       "</table>\n",
       "<table class=\"simpletable\">\n",
       "<tr>\n",
       "          <td></td>             <th>coef</th>     <th>std err</th>      <th>t</th>      <th>P>|t|</th> <th>[95.0% Conf. Int.]</th> \n",
       "</tr>\n",
       "<tr>\n",
       "  <th>YRSSCH_0.0</th>        <td>    3.1424</td> <td>    0.044</td> <td>   71.094</td> <td> 0.000</td> <td>    3.056     3.229</td>\n",
       "</tr>\n",
       "<tr>\n",
       "  <th>YRSSCH_1.0</th>        <td>    3.3432</td> <td>    0.047</td> <td>   70.739</td> <td> 0.000</td> <td>    3.251     3.436</td>\n",
       "</tr>\n",
       "<tr>\n",
       "  <th>YRSSCH_2.0</th>        <td>    3.4798</td> <td>    0.045</td> <td>   76.506</td> <td> 0.000</td> <td>    3.391     3.569</td>\n",
       "</tr>\n",
       "<tr>\n",
       "  <th>YRSSCH_3.0</th>        <td>    3.6100</td> <td>    0.045</td> <td>   80.456</td> <td> 0.000</td> <td>    3.522     3.698</td>\n",
       "</tr>\n",
       "<tr>\n",
       "  <th>YRSSCH_4.0</th>        <td>    3.8040</td> <td>    0.044</td> <td>   85.728</td> <td> 0.000</td> <td>    3.717     3.891</td>\n",
       "</tr>\n",
       "<tr>\n",
       "  <th>YRSSCH_5.0</th>        <td>    3.8896</td> <td>    0.044</td> <td>   87.841</td> <td> 0.000</td> <td>    3.803     3.976</td>\n",
       "</tr>\n",
       "<tr>\n",
       "  <th>YRSSCH_6.0</th>        <td>    3.9779</td> <td>    0.045</td> <td>   88.211</td> <td> 0.000</td> <td>    3.889     4.066</td>\n",
       "</tr>\n",
       "<tr>\n",
       "  <th>YRSSCH_7.0</th>        <td>    4.0545</td> <td>    0.045</td> <td>   89.833</td> <td> 0.000</td> <td>    3.966     4.143</td>\n",
       "</tr>\n",
       "<tr>\n",
       "  <th>YRSSCH_8.0</th>        <td>    4.2004</td> <td>    0.044</td> <td>   94.449</td> <td> 0.000</td> <td>    4.113     4.288</td>\n",
       "</tr>\n",
       "<tr>\n",
       "  <th>YRSSCH_9.0</th>        <td>    4.2735</td> <td>    0.049</td> <td>   87.711</td> <td> 0.000</td> <td>    4.178     4.369</td>\n",
       "</tr>\n",
       "<tr>\n",
       "  <th>YRSSCH_10.0</th>       <td>    4.3868</td> <td>    0.048</td> <td>   92.096</td> <td> 0.000</td> <td>    4.293     4.480</td>\n",
       "</tr>\n",
       "<tr>\n",
       "  <th>YRSSCH_11.0</th>       <td>    4.6883</td> <td>    0.046</td> <td>  102.737</td> <td> 0.000</td> <td>    4.599     4.778</td>\n",
       "</tr>\n",
       "<tr>\n",
       "  <th>YRSSCH_12.0</th>       <td>    4.9364</td> <td>    0.058</td> <td>   84.682</td> <td> 0.000</td> <td>    4.822     5.051</td>\n",
       "</tr>\n",
       "<tr>\n",
       "  <th>YRSSCH_13.0</th>       <td>    5.0792</td> <td>    0.058</td> <td>   86.999</td> <td> 0.000</td> <td>    4.965     5.194</td>\n",
       "</tr>\n",
       "<tr>\n",
       "  <th>YRSSCH_14.0</th>       <td>    5.1801</td> <td>    0.058</td> <td>   89.682</td> <td> 0.000</td> <td>    5.067     5.293</td>\n",
       "</tr>\n",
       "<tr>\n",
       "  <th>YRSSCH_15.0</th>       <td>    5.5794</td> <td>    0.047</td> <td>  119.162</td> <td> 0.000</td> <td>    5.488     5.671</td>\n",
       "</tr>\n",
       "<tr>\n",
       "  <th>AgeInDays</th>         <td>    0.0857</td> <td>    0.002</td> <td>   36.306</td> <td> 0.000</td> <td>    0.081     0.090</td>\n",
       "</tr>\n",
       "<tr>\n",
       "  <th>AgeInDays_Squared</th> <td>   -0.0009</td> <td> 3.03e-05</td> <td>  -29.031</td> <td> 0.000</td> <td>   -0.001    -0.001</td>\n",
       "</tr>\n",
       "</table>\n",
       "<table class=\"simpletable\">\n",
       "<tr>\n",
       "  <th>Omnibus:</th>       <td>1197.043</td> <th>  Durbin-Watson:     </th> <td>   1.600</td>\n",
       "</tr>\n",
       "<tr>\n",
       "  <th>Prob(Omnibus):</th>  <td> 0.000</td>  <th>  Jarque-Bera (JB):  </th> <td>2511.036</td>\n",
       "</tr>\n",
       "<tr>\n",
       "  <th>Skew:</th>           <td> 0.098</td>  <th>  Prob(JB):          </th> <td>    0.00</td>\n",
       "</tr>\n",
       "<tr>\n",
       "  <th>Kurtosis:</th>       <td> 4.023</td>  <th>  Cond. No.          </th> <td>9.14e+04</td>\n",
       "</tr>\n",
       "</table>"
      ],
      "text/plain": [
       "<class 'statsmodels.iolib.summary.Summary'>\n",
       "\"\"\"\n",
       "                             OLS Regression Results                             \n",
       "================================================================================\n",
       "Dep. Variable:     LOG_MONTHLY_EARNINGS   R-squared:                       0.984\n",
       "Model:                              OLS   Adj. R-squared:                  0.984\n",
       "Method:                   Least Squares   F-statistic:                 1.851e+05\n",
       "Date:                  Wed, 03 May 2017   Prob (F-statistic):               0.00\n",
       "Time:                          13:34:23   Log-Likelihood:                -63743.\n",
       "No. Observations:                 55550   AIC:                         1.275e+05\n",
       "Df Residuals:                     55532   BIC:                         1.277e+05\n",
       "Df Model:                            18                                         \n",
       "Covariance Type:              nonrobust                                         \n",
       "=====================================================================================\n",
       "                        coef    std err          t      P>|t|      [95.0% Conf. Int.]\n",
       "-------------------------------------------------------------------------------------\n",
       "YRSSCH_0.0            3.1424      0.044     71.094      0.000         3.056     3.229\n",
       "YRSSCH_1.0            3.3432      0.047     70.739      0.000         3.251     3.436\n",
       "YRSSCH_2.0            3.4798      0.045     76.506      0.000         3.391     3.569\n",
       "YRSSCH_3.0            3.6100      0.045     80.456      0.000         3.522     3.698\n",
       "YRSSCH_4.0            3.8040      0.044     85.728      0.000         3.717     3.891\n",
       "YRSSCH_5.0            3.8896      0.044     87.841      0.000         3.803     3.976\n",
       "YRSSCH_6.0            3.9779      0.045     88.211      0.000         3.889     4.066\n",
       "YRSSCH_7.0            4.0545      0.045     89.833      0.000         3.966     4.143\n",
       "YRSSCH_8.0            4.2004      0.044     94.449      0.000         4.113     4.288\n",
       "YRSSCH_9.0            4.2735      0.049     87.711      0.000         4.178     4.369\n",
       "YRSSCH_10.0           4.3868      0.048     92.096      0.000         4.293     4.480\n",
       "YRSSCH_11.0           4.6883      0.046    102.737      0.000         4.599     4.778\n",
       "YRSSCH_12.0           4.9364      0.058     84.682      0.000         4.822     5.051\n",
       "YRSSCH_13.0           5.0792      0.058     86.999      0.000         4.965     5.194\n",
       "YRSSCH_14.0           5.1801      0.058     89.682      0.000         5.067     5.293\n",
       "YRSSCH_15.0           5.5794      0.047    119.162      0.000         5.488     5.671\n",
       "AgeInDays             0.0857      0.002     36.306      0.000         0.081     0.090\n",
       "AgeInDays_Squared    -0.0009   3.03e-05    -29.031      0.000        -0.001    -0.001\n",
       "==============================================================================\n",
       "Omnibus:                     1197.043   Durbin-Watson:                   1.600\n",
       "Prob(Omnibus):                  0.000   Jarque-Bera (JB):             2511.036\n",
       "Skew:                           0.098   Prob(JB):                         0.00\n",
       "Kurtosis:                       4.023   Cond. No.                     9.14e+04\n",
       "==============================================================================\n",
       "\n",
       "Warnings:\n",
       "[1] Standard Errors assume that the covariance matrix of the errors is correctly specified.\n",
       "[2] The condition number is large, 9.14e+04. This might indicate that there are\n",
       "strong multicollinearity or other numerical problems.\n",
       "\"\"\""
      ]
     },
     "execution_count": 5,
     "metadata": {},
     "output_type": "execute_result"
    }
   ],
   "source": [
    "# Endogenous variable\n",
    "y = df['LOG_MONTHLY_EARNINGS']\n",
    "# Exogenous variables...\n",
    "# ... dummies for years of school\n",
    "X = pd.get_dummies(df['YRSSCH'], prefix='YRSSCH')\n",
    "# ... age\n",
    "X['AgeInDays'] = df['AgeInDays']\n",
    "# ... age squared\n",
    "X['AgeInDays_Squared'] = df['AgeInDays']**2\n",
    "# Compute the least-squares fit\n",
    "res2 = sm.OLS(y, X).fit()\n",
    "res2.summary()"
   ]
  },
  {
   "cell_type": "markdown",
   "metadata": {},
   "source": [
    "The expected difference in log earnings for an individual with no schooling and an individual who has completed primary school is $4.20 - 3.14 = 1.06$, or in linear terms, about a 106% increase in earnings. This is comparable to the estimate from the model in part (a).\n",
    "\n",
    "However, consider the difference between completing 6 years of school and 5 years of school ($4.05 - 3.98 = 0.07$), versus the difference between completing 13 years of school and 12 years of school ($5.07 - 4.93 = 0.14$). This suggests that the effects of an additional year of school are not constant across the population, motivating a quantile regression approach."
   ]
  },
  {
   "cell_type": "markdown",
   "metadata": {},
   "source": [
    "## Part (c)"
   ]
  },
  {
   "cell_type": "code",
   "execution_count": 6,
   "metadata": {},
   "outputs": [
    {
     "data": {
      "image/png": "[encoded data removed]",
      "text/plain": [
       "<matplotlib.figure.Figure at 0x10a2c3908>"
      ]
     },
     "metadata": {},
     "output_type": "display_data"
    }
   ],
   "source": [
    "# Plot histogram\n",
    "fig = plt.figure(figsize=(12,4))\n",
    "ax1 = fig.add_subplot(121)\n",
    "ax1.hist(df[df['YRSSCH'] == 0]['LOG_MONTHLY_EARNINGS'], 20)\n",
    "ax1.set_xlabel('Log monthly earnings')\n",
    "ax1.set_ylabel('Count')\n",
    "ax1.set_title('YRSSCH = 0')\n",
    "ax2 = fig.add_subplot(122)\n",
    "ax2.hist(df[df['YRSSCH'] == 8]['LOG_MONTHLY_EARNINGS'], 20)\n",
    "ax2.set_xlabel('Log monthly earnings')\n",
    "ax1.set_ylabel('Count')\n",
    "ax2.set_title('YRSSCH = 8')\n",
    "plt.show()"
   ]
  },
  {
   "cell_type": "markdown",
   "metadata": {},
   "source": [
    "The distribution of log earnings is centered around 5 for no schooling, and around 6 for 8 years of schooling. Both look approximately normal, but there is an abnormally large bin in the no schooling distribution around 4.8. This is probably due to a clustering effect — perhaps this represents the monthly earnings for a minimum wage job."
   ]
  },
  {
   "cell_type": "markdown",
   "metadata": {},
   "source": [
    "## Part (d)"
   ]
  },
  {
   "cell_type": "code",
   "execution_count": 7,
   "metadata": {
    "collapsed": true
   },
   "outputs": [],
   "source": [
    "def quantile_estimate(data, tau):\n",
    "    \"\"\"\n",
    "    Takes a data series and a quantile and,\n",
    "    if there are more than 80 observations,\n",
    "    returns (pi, sigma2, se), where\n",
    "    - pi is an estimate of the quantile\n",
    "    - sigma2 is an estimate of the variance,\n",
    "    - se is an estimate of the standard error.\n",
    "    \"\"\"\n",
    "    # Sort the data\n",
    "    data = sorted(data)\n",
    "    n = len(data)\n",
    "    # If there are fewer than 80 observations, quit\n",
    "    if n < 80:\n",
    "        return None, None, None\n",
    "    # Estimate of the quantile\n",
    "    pi = np.percentile(data, q=tau*100)\n",
    "    # z-value for a 95% confidence interval\n",
    "    z = scipy.stats.norm.ppf(0.975)\n",
    "    l = z*math.sqrt(n*tau*(1-tau))\n",
    "    # Index of lower bound\n",
    "    j = math.floor(n*tau - l)\n",
    "    # Lower bound of CI\n",
    "    lbound = data[j-1]\n",
    "    # Index of upper bound\n",
    "    k = math.ceil(n*tau + l)\n",
    "    # Upper bound of CI\n",
    "    ubound = data[k-1]\n",
    "    # Variance estimator\n",
    "    sigma2 = n*(ubound-lbound)**2/(4*z**2)    \n",
    "    # Standard error estimator\n",
    "    se = math.sqrt(sigma2/n)\n",
    "    return pi, sigma2, se"
   ]
  },
  {
   "cell_type": "code",
   "execution_count": 8,
   "metadata": {
    "collapsed": true
   },
   "outputs": [],
   "source": [
    "# We'll store our estimates here\n",
    "estimates = pd.DataFrame(columns=[\n",
    "        'L', # age bin\n",
    "        'K', # school bin\n",
    "        'p', # proportion of observations in this bin\n",
    "        'tau', # quantile of interest\n",
    "        'pi', # quantile estimate\n",
    "        'sigma2', # variance estimate,\n",
    "        'se' # standard error estimate\n",
    "    ])\n",
    "# Quantiles we're interested in\n",
    "quantiles = [0.10, 0.25, 0.5, 0.75, 0.90]\n",
    "# School bins from 0 to 15\n",
    "schoolbins = range(0, 16)\n",
    "# Age bins from [20, 25) ... [55, 60)\n",
    "agebins = range(20, 60, 5)"
   ]
  },
  {
   "cell_type": "code",
   "execution_count": 9,
   "metadata": {},
   "outputs": [],
   "source": [
    "for L in agebins:\n",
    "    for K in schoolbins:\n",
    "        # Select the subset of data we want\n",
    "        subset = df[(df.AgeInDays >= L) & (df.AgeInDays < (L + 5)) & (df.YRSSCH == K)]\n",
    "        # Series of log earnings from this subset\n",
    "        earnings_series = subset['LOG_MONTHLY_EARNINGS']\n",
    "        # Proportion of observations in this bin\n",
    "        p = len(earnings_series)/N\n",
    "        # For each quantile of interest\n",
    "        for tau in quantiles:\n",
    "            # Compute the estimate and standard deviation\n",
    "            pi, sigma2, se = quantile_estimate(earnings_series, tau)\n",
    "            estimates = estimates.append({\n",
    "                'L': L,\n",
    "                'K': K,\n",
    "                'tau': tau,\n",
    "                'p': p,\n",
    "                'pi': pi,\n",
    "                'sigma2': sigma2,\n",
    "                'se': se\n",
    "            }, ignore_index=True)"
   ]
  },
  {
   "cell_type": "code",
   "execution_count": 10,
   "metadata": {},
   "outputs": [
    {
     "data": {
      "text/html": [
       "<div>\n",
       "<table border=\"1\" class=\"dataframe\">\n",
       "  <thead>\n",
       "    <tr style=\"text-align: right;\">\n",
       "      <th></th>\n",
       "      <th>L</th>\n",
       "      <th>K</th>\n",
       "      <th>p</th>\n",
       "      <th>tau</th>\n",
       "      <th>pi</th>\n",
       "      <th>sigma2</th>\n",
       "      <th>se</th>\n",
       "    </tr>\n",
       "  </thead>\n",
       "  <tbody>\n",
       "    <tr>\n",
       "      <th>0</th>\n",
       "      <td>20.0</td>\n",
       "      <td>0.0</td>\n",
       "      <td>0.013645</td>\n",
       "      <td>0.10</td>\n",
       "      <td>3.912023</td>\n",
       "      <td>2.456302</td>\n",
       "      <td>0.056925</td>\n",
       "    </tr>\n",
       "    <tr>\n",
       "      <th>1</th>\n",
       "      <td>20.0</td>\n",
       "      <td>0.0</td>\n",
       "      <td>0.013645</td>\n",
       "      <td>0.25</td>\n",
       "      <td>4.442651</td>\n",
       "      <td>2.456302</td>\n",
       "      <td>0.056925</td>\n",
       "    </tr>\n",
       "    <tr>\n",
       "      <th>2</th>\n",
       "      <td>20.0</td>\n",
       "      <td>0.0</td>\n",
       "      <td>0.013645</td>\n",
       "      <td>0.50</td>\n",
       "      <td>4.787492</td>\n",
       "      <td>0.234814</td>\n",
       "      <td>0.017601</td>\n",
       "    </tr>\n",
       "    <tr>\n",
       "      <th>3</th>\n",
       "      <td>20.0</td>\n",
       "      <td>0.0</td>\n",
       "      <td>0.013645</td>\n",
       "      <td>0.75</td>\n",
       "      <td>5.298317</td>\n",
       "      <td>0.000000</td>\n",
       "      <td>0.000000</td>\n",
       "    </tr>\n",
       "    <tr>\n",
       "      <th>4</th>\n",
       "      <td>20.0</td>\n",
       "      <td>0.0</td>\n",
       "      <td>0.013645</td>\n",
       "      <td>0.90</td>\n",
       "      <td>5.703783</td>\n",
       "      <td>3.006177</td>\n",
       "      <td>0.062976</td>\n",
       "    </tr>\n",
       "  </tbody>\n",
       "</table>\n",
       "</div>"
      ],
      "text/plain": [
       "      L    K         p   tau        pi    sigma2        se\n",
       "0  20.0  0.0  0.013645  0.10  3.912023  2.456302  0.056925\n",
       "1  20.0  0.0  0.013645  0.25  4.442651  2.456302  0.056925\n",
       "2  20.0  0.0  0.013645  0.50  4.787492  0.234814  0.017601\n",
       "3  20.0  0.0  0.013645  0.75  5.298317  0.000000  0.000000\n",
       "4  20.0  0.0  0.013645  0.90  5.703783  3.006177  0.062976"
      ]
     },
     "execution_count": 10,
     "metadata": {},
     "output_type": "execute_result"
    }
   ],
   "source": [
    "estimates.head()"
   ]
  },
  {
   "cell_type": "markdown",
   "metadata": {},
   "source": [
    "## Part (e)"
   ]
  },
  {
   "cell_type": "markdown",
   "metadata": {},
   "source": [
    "Let's look at the bins where the standard error estimate is zero."
   ]
  },
  {
   "cell_type": "code",
   "execution_count": 11,
   "metadata": {},
   "outputs": [
    {
     "name": "stdout",
     "output_type": "stream",
     "text": [
      "11\n"
     ]
    },
    {
     "data": {
      "text/html": [
       "<div>\n",
       "<table border=\"1\" class=\"dataframe\">\n",
       "  <thead>\n",
       "    <tr style=\"text-align: right;\">\n",
       "      <th></th>\n",
       "      <th>L</th>\n",
       "      <th>K</th>\n",
       "      <th>p</th>\n",
       "      <th>tau</th>\n",
       "      <th>pi</th>\n",
       "      <th>sigma2</th>\n",
       "      <th>se</th>\n",
       "    </tr>\n",
       "  </thead>\n",
       "  <tbody>\n",
       "    <tr>\n",
       "      <th>3</th>\n",
       "      <td>20.0</td>\n",
       "      <td>0.0</td>\n",
       "      <td>0.013645</td>\n",
       "      <td>0.75</td>\n",
       "      <td>5.298317</td>\n",
       "      <td>0.0</td>\n",
       "      <td>0.0</td>\n",
       "    </tr>\n",
       "    <tr>\n",
       "      <th>16</th>\n",
       "      <td>20.0</td>\n",
       "      <td>3.0</td>\n",
       "      <td>0.011377</td>\n",
       "      <td>0.25</td>\n",
       "      <td>4.718499</td>\n",
       "      <td>0.0</td>\n",
       "      <td>0.0</td>\n",
       "    </tr>\n",
       "    <tr>\n",
       "      <th>25</th>\n",
       "      <td>20.0</td>\n",
       "      <td>5.0</td>\n",
       "      <td>0.019586</td>\n",
       "      <td>0.10</td>\n",
       "      <td>4.718499</td>\n",
       "      <td>0.0</td>\n",
       "      <td>0.0</td>\n",
       "    </tr>\n",
       "    <tr>\n",
       "      <th>30</th>\n",
       "      <td>20.0</td>\n",
       "      <td>6.0</td>\n",
       "      <td>0.013195</td>\n",
       "      <td>0.10</td>\n",
       "      <td>4.718499</td>\n",
       "      <td>0.0</td>\n",
       "      <td>0.0</td>\n",
       "    </tr>\n",
       "    <tr>\n",
       "      <th>35</th>\n",
       "      <td>20.0</td>\n",
       "      <td>7.0</td>\n",
       "      <td>0.012979</td>\n",
       "      <td>0.10</td>\n",
       "      <td>4.718499</td>\n",
       "      <td>0.0</td>\n",
       "      <td>0.0</td>\n",
       "    </tr>\n",
       "  </tbody>\n",
       "</table>\n",
       "</div>"
      ],
      "text/plain": [
       "       L    K         p   tau        pi  sigma2   se\n",
       "3   20.0  0.0  0.013645  0.75  5.298317     0.0  0.0\n",
       "16  20.0  3.0  0.011377  0.25  4.718499     0.0  0.0\n",
       "25  20.0  5.0  0.019586  0.10  4.718499     0.0  0.0\n",
       "30  20.0  6.0  0.013195  0.10  4.718499     0.0  0.0\n",
       "35  20.0  7.0  0.012979  0.10  4.718499     0.0  0.0"
      ]
     },
     "execution_count": 11,
     "metadata": {},
     "output_type": "execute_result"
    }
   ],
   "source": [
    "zeros = estimates[estimates['se'] == 0]\n",
    "print(len(zeros))\n",
    "zeros.head()"
   ]
  },
  {
   "cell_type": "markdown",
   "metadata": {},
   "source": [
    "There are 11 bins for which the standard error estimate is zero. Let's see what's going on in the first one:"
   ]
  },
  {
   "cell_type": "code",
   "execution_count": 12,
   "metadata": {},
   "outputs": [
    {
     "data": {
      "text/plain": [
       "4.718499    84\n",
       "4.605170    62\n",
       "4.787492    58\n",
       "4.382027    57\n",
       "5.298317    50\n",
       "Name: LOG_MONTHLY_EARNINGS, dtype: int64"
      ]
     },
     "execution_count": 12,
     "metadata": {},
     "output_type": "execute_result"
    }
   ],
   "source": [
    "L = 20\n",
    "K = 0\n",
    "subset = df[(df.AgeInDays >= L) & (df.AgeInDays < (L + 5)) & (df.YRSSCH == K)]\n",
    "subset['LOG_MONTHLY_EARNINGS'].value_counts().head()"
   ]
  },
  {
   "cell_type": "markdown",
   "metadata": {},
   "source": [
    "We have 84 observations with `LOG_MONTHLY_EARNINGS` equal to 4.718499, so `MONTHLY_EARNINGS` is clearly not a continuously-valued random variable; there are certain earnings levels which are shared by many people in the sample. This is causing our standard error estimates to sometimes be zero — if our 95% confidence interval falls within one of these clusters, then the length of the interval and thus the standard error will be 0."
   ]
  },
  {
   "cell_type": "markdown",
   "metadata": {},
   "source": [
    "## Part (f)"
   ]
  },
  {
   "cell_type": "markdown",
   "metadata": {},
   "source": [
    "Note: we correct the standard error reported by the WLS program, $se^*(\\alpha)$, with the following:\n",
    "\n",
    "$$se(\\alpha) = \\frac{se^*(\\alpha)}{\\sqrt{s^2}} \\sqrt{\\frac{L}{N}},$$\n",
    "\n",
    "where $s^2$ is the standard error of the regression, $N$ is the total number of observations, and $L$ is the total number of bins."
   ]
  },
  {
   "cell_type": "code",
   "execution_count": 13,
   "metadata": {
    "collapsed": true
   },
   "outputs": [],
   "source": [
    "def quantile_regress(data):\n",
    "    \"\"\"\n",
    "    Takes a data series and returns (alpha, se), where\n",
    "    - alpha is the coefficient on YRSSCH\n",
    "    - se is a standard error estimate.\n",
    "    \"\"\"\n",
    "    # Endogenous variable\n",
    "    y = data['pi']\n",
    "    # Exogenous variables\n",
    "    X = pd.DataFrame()\n",
    "    # Midpoint of the age range\n",
    "    X['AgeInDays'] = data['L'] + 2.5\n",
    "    X['AgeInDays_Squared'] = X['AgeInDays']**2\n",
    "    X['YRSSCH'] = data['K']\n",
    "    # WLS weights\n",
    "    weights = data['p']/(data['sigma2'])\n",
    "    # Fit the model\n",
    "    res = sm.WLS(y, X, weights).fit()\n",
    "    # Coefficient on YRSSCH\n",
    "    alpha = res.params['YRSSCH']\n",
    "    # Square root of the standard error of the regression\n",
    "    # (Statsmodels takes care of the degrees of freedom correction\n",
    "    # so this is an unbiased estimator)\n",
    "    s = math.sqrt(res.mse_resid)\n",
    "    # Number of bins\n",
    "    L = len(data)\n",
    "    # Corrected standard error for alpha\n",
    "    #se = res.bse['YRSSCH']/s * math.sqrt(L/N)\n",
    "    se = res.bse['YRSSCH']/s * math.sqrt(1/N)\n",
    "    return alpha, se"
   ]
  },
  {
   "cell_type": "code",
   "execution_count": 14,
   "metadata": {},
   "outputs": [
    {
     "data": {
      "text/html": [
       "<div>\n",
       "<table border=\"1\" class=\"dataframe\">\n",
       "  <thead>\n",
       "    <tr style=\"text-align: right;\">\n",
       "      <th></th>\n",
       "      <th>tau</th>\n",
       "      <th>alpha</th>\n",
       "      <th>se</th>\n",
       "    </tr>\n",
       "  </thead>\n",
       "  <tbody>\n",
       "    <tr>\n",
       "      <th>0</th>\n",
       "      <td>0.10</td>\n",
       "      <td>0.129345</td>\n",
       "      <td>0.001563</td>\n",
       "    </tr>\n",
       "    <tr>\n",
       "      <th>1</th>\n",
       "      <td>0.25</td>\n",
       "      <td>0.139102</td>\n",
       "      <td>0.000722</td>\n",
       "    </tr>\n",
       "    <tr>\n",
       "      <th>2</th>\n",
       "      <td>0.50</td>\n",
       "      <td>0.142337</td>\n",
       "      <td>0.000961</td>\n",
       "    </tr>\n",
       "    <tr>\n",
       "      <th>3</th>\n",
       "      <td>0.75</td>\n",
       "      <td>0.145653</td>\n",
       "      <td>0.000731</td>\n",
       "    </tr>\n",
       "    <tr>\n",
       "      <th>4</th>\n",
       "      <td>0.90</td>\n",
       "      <td>0.143172</td>\n",
       "      <td>0.001335</td>\n",
       "    </tr>\n",
       "  </tbody>\n",
       "</table>\n",
       "</div>"
      ],
      "text/plain": [
       "    tau     alpha        se\n",
       "0  0.10  0.129345  0.001563\n",
       "1  0.25  0.139102  0.000722\n",
       "2  0.50  0.142337  0.000961\n",
       "3  0.75  0.145653  0.000731\n",
       "4  0.90  0.143172  0.001335"
      ]
     },
     "execution_count": 14,
     "metadata": {},
     "output_type": "execute_result"
    }
   ],
   "source": [
    "# We'll store our estimates here\n",
    "coeff_estimates = pd.DataFrame(columns=[\n",
    "        'tau', # quantile\n",
    "        'alpha', # coefficient on YRSSCH\n",
    "        'se', # standard error of coefficient on YRSSCH\n",
    "    ])\n",
    "\n",
    "for quantile in quantiles:\n",
    "    # Drop if the standard error is 0\n",
    "    data = estimates[(estimates.tau == quantile) & (estimates.se > 0)].dropna()\n",
    "    alpha, se = quantile_regress(data)\n",
    "    coeff_estimates = coeff_estimates.append({\n",
    "            'tau': quantile,\n",
    "            'alpha': alpha,\n",
    "            'se': se\n",
    "        }, ignore_index=True)\n",
    "\n",
    "coeff_estimates.head()"
   ]
  },
  {
   "cell_type": "markdown",
   "metadata": {},
   "source": [
    "The coefficient on schooling increases with the quantile under consideration from the 0.10 to the 0.75 quantile, then decreases again at the 0.90 quantile. So, it seems as though the returns to schooling are greater at higher quantiles in the earnings distribution. If you earn more, schooling is likely to have a larger effect on your earnings; the earnings of those who earn less (and those who earn the very most) are not affected by their schooling levels as much.\n",
    "\n",
    "The coefficients are all lower than the standard OLS estimate, 0.146. This indicates that the returns to schooling might be very high for some individuals, which is biasing the estimate upwards. The median individual's returns to schooling are lower than the average individual's returns."
   ]
  },
  {
   "cell_type": "markdown",
   "metadata": {},
   "source": [
    "## Part (g)"
   ]
  },
  {
   "cell_type": "markdown",
   "metadata": {},
   "source": [
    "Earnings increase with education. On *average*, an extra year of education leads to a 0.145 log point increase in earnings. However, these returns vary dramatically across the year in consideration; for example, the returns from going from 12 to 13 years of school are much greater than the returns from going from 5 to 6 years of school. \n",
    "\n",
    "The effect of an extra year of education also varies across the earnings distribution. For the lowest earners, the effects of schooling is not as significant (perhaps these are individuals who are unemployed for reasons unrelated to schooling or training); an extra year of education produces about a 0.130 log point increase in earnings. Upper-middle income individuals see the greatest returns to education, about a 0.146 log point increase in earnings for each additional year of education. These might be those with \"regular\" white-collar jobs for whom a college degree or a postgraduate degree could have a significant impact on their career trajectory. For the *very* highest earners, an extra year of schooling also doesn't have as much of an effect as for those who earn a bit less (think child prodigies and college-dropouts-turned-billionaires). For them, an extra year of education produces about a 0.143 log point increase in earnings.\n",
    "\n",
    "In general, the fact that the coefficient from the OLS estimate is larger than most of the coefficients from the quantile regression suggests that there are relatively many highly-educated individuals who also earn a lot; the highly-paid and highly-educated professionals are probably biasing the results upwards for the population as a whole, which includes lower-paid workers who experience lower returns to education."
   ]
  },
  {
   "cell_type": "markdown",
   "metadata": {},
   "source": [
    "## Part (h)"
   ]
  },
  {
   "cell_type": "code",
   "execution_count": 15,
   "metadata": {
    "collapsed": true
   },
   "outputs": [],
   "source": [
    "# Centiles 0.05 to 0.95\n",
    "quantiles2 = np.arange(0.05, 1.0, 0.05)\n",
    "\n",
    "# We'll store our estimates here\n",
    "estimates2 = pd.DataFrame(columns=[\n",
    "        'L', # age bin\n",
    "        'K', # school bin\n",
    "        'p', # proportion of observations in this bin\n",
    "        'tau', # quantile of interest\n",
    "        'pi', # quantile estimate\n",
    "        'sigma2', # variance estimate\n",
    "        'se' # standard error estimate\n",
    "    ])"
   ]
  },
  {
   "cell_type": "code",
   "execution_count": 16,
   "metadata": {},
   "outputs": [],
   "source": [
    "for L in agebins:\n",
    "    for K in schoolbins:\n",
    "        # Select the subset of data we want\n",
    "        subset = df[(df.AgeInDays >= L) & (df.AgeInDays < (L + 5)) & (df.YRSSCH == K)]\n",
    "        # Series of log earnings from this subset\n",
    "        earnings_series = subset['LOG_MONTHLY_EARNINGS']\n",
    "        # Proportion of observations in this bin\n",
    "        p = len(earnings_series)/N\n",
    "        # For each quantile of interest\n",
    "        for tau in quantiles2:\n",
    "            # Compute the estimate and standard deviation\n",
    "            pi, sigma2, se = quantile_estimate(earnings_series, tau)\n",
    "            estimates2 = estimates2.append({\n",
    "                'L': L,\n",
    "                'K': K,\n",
    "                'tau': tau,\n",
    "                'p': p,\n",
    "                'pi': pi,\n",
    "                'sigma2': sigma2,\n",
    "                'se': se\n",
    "            }, ignore_index=True)"
   ]
  },
  {
   "cell_type": "code",
   "execution_count": 17,
   "metadata": {
    "collapsed": true
   },
   "outputs": [],
   "source": [
    "# We'll store our coefficient estimates here\n",
    "coeff_estimates2 = pd.DataFrame(columns=[\n",
    "        'tau', # quantile\n",
    "        'alpha', # coefficient on YRSSCH\n",
    "        'se', # standard error of coefficient on YRSSCH\n",
    "    ])\n",
    "\n",
    "for quantile in quantiles2:\n",
    "    data = estimates2[(estimates2.tau == quantile) & (estimates2.se > 0)].dropna()\n",
    "    alpha, se = quantile_regress(data)\n",
    "    coeff_estimates2 = coeff_estimates2.append({\n",
    "            'tau': quantile,\n",
    "            'alpha': alpha,\n",
    "            'se': se\n",
    "        }, ignore_index=True)"
   ]
  },
  {
   "cell_type": "code",
   "execution_count": 18,
   "metadata": {},
   "outputs": [
    {
     "data": {
      "image/png": "[encoded data removed]",
      "text/plain": [
       "<matplotlib.figure.Figure at 0x10f01d780>"
      ]
     },
     "metadata": {},
     "output_type": "display_data"
    }
   ],
   "source": [
    "# Plot with standard errors \n",
    "fig = plt.figure(figsize=(10,6))\n",
    "ax = fig.add_subplot(111)\n",
    "ax.set_xlim([0,1])\n",
    "ax.set_xlabel(r'$\\tau$ (quantile)')\n",
    "ax.set_ylabel(r'$\\alpha$ (coefficient on schooling)')\n",
    "# Plot scatter of normalized costs against log output\n",
    "ax.scatter(coeff_estimates2['tau'], coeff_estimates2['alpha'])\n",
    "# z-value for a 95% confidence interval\n",
    "z = scipy.stats.norm.ppf(0.975)\n",
    "# CI lower and upper bounds\n",
    "lower = coeff_estimates2['alpha'] - z*coeff_estimates2['se']\n",
    "upper = coeff_estimates2['alpha'] + z*coeff_estimates2['se']\n",
    "# Plot confidence band\n",
    "ax.fill_between(\n",
    "    coeff_estimates2['tau'],\n",
    "    lower,\n",
    "    upper,\n",
    "    facecolor='red',\n",
    "    alpha=0.1,\n",
    "    label='95% pointwise confidence band'\n",
    ")\n",
    "plt.legend(loc='lower right')\n",
    "plt.show()"
   ]
  },
  {
   "cell_type": "markdown",
   "metadata": {},
   "source": [
    "This plot looks roughly U-shaped; it's certainly not monotonically increasing. It appears as though the returns to schooling increase from the lowest quantiles to about the median of the earnings distribution, after which the returns stay approximately constant and even decrease towards the upper quantiles. The data is relatively noisy, though — given the size of the standard errors, it could be that the returns are flat across the population."
   ]
  }
 ],
 "metadata": {
  "kernelspec": {
   "display_name": "Python 3",
   "language": "python",
   "name": "python3"
  },
  "language_info": {
   "codemirror_mode": {
    "name": "ipython",
    "version": 3
   },
   "file_extension": ".py",
   "mimetype": "text/x-python",
   "name": "python",
   "nbconvert_exporter": "python",
   "pygments_lexer": "ipython3",
   "version": "3.4.3"
  }
 },
 "nbformat": 4,
 "nbformat_minor": 1
}
