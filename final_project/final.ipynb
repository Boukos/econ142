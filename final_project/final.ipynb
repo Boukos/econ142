{
 "cells": [
  {
   "cell_type": "markdown",
   "metadata": {},
   "source": [
    "# Econ C142 Final Project\n",
    "## Sahil Chinoy"
   ]
  },
  {
   "cell_type": "markdown",
   "metadata": {},
   "source": [
    "## The returns to college major: A quantile regression approach"
   ]
  },
  {
   "cell_type": "code",
   "execution_count": 1,
   "metadata": {
    "collapsed": true
   },
   "outputs": [],
   "source": [
    "%matplotlib inline\n",
    "import math\n",
    "import scipy\n",
    "import decimal\n",
    "import numpy as np\n",
    "import pandas as pd\n",
    "from itertools import product\n",
    "import statsmodels.api as sm\n",
    "import matplotlib.pyplot as plt"
   ]
  },
  {
   "cell_type": "markdown",
   "metadata": {},
   "source": [
    "## Data"
   ]
  },
  {
   "cell_type": "markdown",
   "metadata": {},
   "source": [
    "I'm using data from the 2015 ACS, aggregated by IPUMS. Each observation is a single person, and we observe their wage, field of degree, race, sex, and age. I've already limited the sample to individuals age 23 and older who worked more than 40 weeks in 2014, to make sure yearly wages are comparable."
   ]
  },
  {
   "cell_type": "code",
   "execution_count": 2,
   "metadata": {
    "collapsed": true
   },
   "outputs": [],
   "source": [
    "df = pd.read_csv('usa_00009.csv')"
   ]
  },
  {
   "cell_type": "code",
   "execution_count": 3,
   "metadata": {},
   "outputs": [
    {
     "data": {
      "text/html": [
       "<div>\n",
       "<table border=\"1\" class=\"dataframe\">\n",
       "  <thead>\n",
       "    <tr style=\"text-align: right;\">\n",
       "      <th></th>\n",
       "      <th>SEX</th>\n",
       "      <th>AGE</th>\n",
       "      <th>RACE</th>\n",
       "      <th>RACED</th>\n",
       "      <th>DEGFIELD</th>\n",
       "      <th>DEGFIELDD</th>\n",
       "      <th>WKSWORK2</th>\n",
       "      <th>INCWAGE</th>\n",
       "    </tr>\n",
       "  </thead>\n",
       "  <tbody>\n",
       "    <tr>\n",
       "      <th>0</th>\n",
       "      <td>1</td>\n",
       "      <td>56</td>\n",
       "      <td>2</td>\n",
       "      <td>200</td>\n",
       "      <td>0</td>\n",
       "      <td>0</td>\n",
       "      <td>6</td>\n",
       "      <td>2800</td>\n",
       "    </tr>\n",
       "    <tr>\n",
       "      <th>1</th>\n",
       "      <td>1</td>\n",
       "      <td>53</td>\n",
       "      <td>1</td>\n",
       "      <td>100</td>\n",
       "      <td>19</td>\n",
       "      <td>1901</td>\n",
       "      <td>6</td>\n",
       "      <td>150000</td>\n",
       "    </tr>\n",
       "    <tr>\n",
       "      <th>2</th>\n",
       "      <td>2</td>\n",
       "      <td>53</td>\n",
       "      <td>1</td>\n",
       "      <td>100</td>\n",
       "      <td>0</td>\n",
       "      <td>0</td>\n",
       "      <td>4</td>\n",
       "      <td>6000</td>\n",
       "    </tr>\n",
       "    <tr>\n",
       "      <th>3</th>\n",
       "      <td>2</td>\n",
       "      <td>46</td>\n",
       "      <td>1</td>\n",
       "      <td>100</td>\n",
       "      <td>0</td>\n",
       "      <td>0</td>\n",
       "      <td>6</td>\n",
       "      <td>27000</td>\n",
       "    </tr>\n",
       "    <tr>\n",
       "      <th>4</th>\n",
       "      <td>1</td>\n",
       "      <td>53</td>\n",
       "      <td>1</td>\n",
       "      <td>100</td>\n",
       "      <td>0</td>\n",
       "      <td>0</td>\n",
       "      <td>6</td>\n",
       "      <td>10000</td>\n",
       "    </tr>\n",
       "  </tbody>\n",
       "</table>\n",
       "</div>"
      ],
      "text/plain": [
       "   SEX  AGE  RACE  RACED  DEGFIELD  DEGFIELDD  WKSWORK2  INCWAGE\n",
       "0    1   56     2    200         0          0         6     2800\n",
       "1    1   53     1    100        19       1901         6   150000\n",
       "2    2   53     1    100         0          0         4     6000\n",
       "3    2   46     1    100         0          0         6    27000\n",
       "4    1   53     1    100         0          0         6    10000"
      ]
     },
     "execution_count": 3,
     "metadata": {},
     "output_type": "execute_result"
    }
   ],
   "source": [
    "df.head()"
   ]
  },
  {
   "cell_type": "code",
   "execution_count": 4,
   "metadata": {
    "collapsed": true
   },
   "outputs": [],
   "source": [
    "# Drop if no degree field or if no wage\n",
    "df = df[(df['DEGFIELD'] != 0) & (df['INCWAGE'] > 0)]\n",
    "# Compute log wage\n",
    "df['LNWAGE'] = np.log(df['INCWAGE'])"
   ]
  },
  {
   "cell_type": "markdown",
   "metadata": {},
   "source": [
    "Some housekeeping: we need to convert the sex, race, and degree field codes in the ACS to labeled values."
   ]
  },
  {
   "cell_type": "code",
   "execution_count": 5,
   "metadata": {
    "collapsed": true
   },
   "outputs": [],
   "source": [
    "sex_map = {\n",
    "    1: \"M\",\n",
    "    2: \"F\"\n",
    "}\n",
    "df['SEX'] = df['SEX'].map(sex_map)"
   ]
  },
  {
   "cell_type": "code",
   "execution_count": 6,
   "metadata": {
    "collapsed": true
   },
   "outputs": [],
   "source": [
    "race_map = {\n",
    "    1: \"White\",\n",
    "    2: \"Black/Negro\",\n",
    "    3: \"American Indian or Alaska Native\",\n",
    "    4: \"Chinese\",\n",
    "    5: \"Japanese\",\n",
    "    6: \"Other Asian or Pacific Islander\",\n",
    "    7: \"Other race, nec\",\n",
    "    8: \"Two major races\",\n",
    "    9: \"Three or more major races\"\n",
    "}\n",
    "df['RACE'] = df['RACE'].map(race_map)"
   ]
  },
  {
   "cell_type": "code",
   "execution_count": 7,
   "metadata": {
    "collapsed": true
   },
   "outputs": [],
   "source": [
    "degfield_map = {\n",
    "    11: \"Agriculture\",\n",
    "    13: \"Environment and Natural Resources\",\n",
    "    14: \"Architecture\",\n",
    "    15: \"Area, Ethnic, and Civilization Studies\",\n",
    "    19: \"Communications\",\n",
    "    20: \"Communication Technologies\",\n",
    "    21: \"Computer and Information Sciences\",\n",
    "    22: \"Cosmetology Services and Culinary Arts\",\n",
    "    23: \"Education Administration and Teaching\",\n",
    "    24: \"Engineering\",\n",
    "    25: \"Engineering Technologies\",\n",
    "    26: \"Linguistics and Foreign Languages\",\n",
    "    29: \"Family and Consumer Sciences\",\n",
    "    32: \"Law\",\n",
    "    33: \"English Language, Literature, and Composition\",\n",
    "    34: \"Liberal Arts and Humanities\",\n",
    "    35: \"Library Science\",\n",
    "    36: \"Biology and Life Sciences\",\n",
    "    37: \"Mathematics and Statistics\",\n",
    "    38: \"Military Technologies\",\n",
    "    40: \"Interdisciplinary and Multi-Disciplinary Studies (General)\",\n",
    "    41: \"Physical Fitness, Parks, Recreation, and Leisure\",\n",
    "    48: \"Philosophy and Religious Studies\",\n",
    "    49: \"Theology and Religious Vocations\",\n",
    "    50: \"Physical Sciences\",\n",
    "    51: \"Nuclear, Industrial Radiology, and Biological Technologies\",\n",
    "    52: \"Psychology\",\n",
    "    53: \"Criminal Justice and Fire Protection\",\n",
    "    54: \"Public Affairs, Policy, and Social Work\",\n",
    "    55: \"Social Sciences\",\n",
    "    56: \"Construction Services\",\n",
    "    57: \"Electrical and Mechanic Repairs and Technologies\",\n",
    "    58: \"Precision Production and Industrial Arts\",\n",
    "    59: \"Transportation Sciences and Technologies\",\n",
    "    60: \"Fine Arts\",\n",
    "    61: \"Medical and Health Sciences and Services\",\n",
    "    62: \"Business\",\n",
    "    64: \"History\"\n",
    "}\n",
    "df['DEGFIELD'] = df['DEGFIELD'].map(degfield_map)"
   ]
  },
  {
   "cell_type": "markdown",
   "metadata": {
    "collapsed": true
   },
   "source": [
    "Let's make sure each degree field is adequately represented in the sample. We don't want outliers to unduly influence our summary statistics and regression results when we group by degree field."
   ]
  },
  {
   "cell_type": "code",
   "execution_count": 8,
   "metadata": {},
   "outputs": [
    {
     "data": {
      "text/html": [
       "<div>\n",
       "<table border=\"1\" class=\"dataframe\">\n",
       "  <thead>\n",
       "    <tr style=\"text-align: right;\">\n",
       "      <th></th>\n",
       "      <th>count</th>\n",
       "    </tr>\n",
       "    <tr>\n",
       "      <th>DEGFIELD</th>\n",
       "      <th></th>\n",
       "    </tr>\n",
       "  </thead>\n",
       "  <tbody>\n",
       "    <tr>\n",
       "      <th>Military Technologies</th>\n",
       "      <td>38</td>\n",
       "    </tr>\n",
       "    <tr>\n",
       "      <th>Electrical and Mechanic Repairs and Technologies</th>\n",
       "      <td>131</td>\n",
       "    </tr>\n",
       "    <tr>\n",
       "      <th>Nuclear, Industrial Radiology, and Biological Technologies</th>\n",
       "      <td>131</td>\n",
       "    </tr>\n",
       "    <tr>\n",
       "      <th>Library Science</th>\n",
       "      <td>138</td>\n",
       "    </tr>\n",
       "    <tr>\n",
       "      <th>Cosmetology Services and Culinary Arts</th>\n",
       "      <td>340</td>\n",
       "    </tr>\n",
       "    <tr>\n",
       "      <th>Communication Technologies</th>\n",
       "      <td>559</td>\n",
       "    </tr>\n",
       "    <tr>\n",
       "      <th>Law</th>\n",
       "      <td>648</td>\n",
       "    </tr>\n",
       "    <tr>\n",
       "      <th>Construction Services</th>\n",
       "      <td>862</td>\n",
       "    </tr>\n",
       "    <tr>\n",
       "      <th>Transportation Sciences and Technologies</th>\n",
       "      <td>1189</td>\n",
       "    </tr>\n",
       "    <tr>\n",
       "      <th>Area, Ethnic, and Civilization Studies</th>\n",
       "      <td>1282</td>\n",
       "    </tr>\n",
       "  </tbody>\n",
       "</table>\n",
       "</div>"
      ],
      "text/plain": [
       "                                                    count\n",
       "DEGFIELD                                                 \n",
       "Military Technologies                                  38\n",
       "Electrical and Mechanic Repairs and Technologies      131\n",
       "Nuclear, Industrial Radiology, and Biological T...    131\n",
       "Library Science                                       138\n",
       "Cosmetology Services and Culinary Arts                340\n",
       "Communication Technologies                            559\n",
       "Law                                                   648\n",
       "Construction Services                                 862\n",
       "Transportation Sciences and Technologies             1189\n",
       "Area, Ethnic, and Civilization Studies               1282"
      ]
     },
     "execution_count": 8,
     "metadata": {},
     "output_type": "execute_result"
    }
   ],
   "source": [
    "# Degree field by number of observations\n",
    "counts = df[['DEGFIELD','SEX']].groupby('DEGFIELD') \\\n",
    "    .aggregate('count').rename(columns={'SEX':'count'})\n",
    "# 10 degree fields with the fewest observations\n",
    "counts.sort_values('count').head(n=10)"
   ]
  },
  {
   "cell_type": "code",
   "execution_count": 9,
   "metadata": {
    "collapsed": true
   },
   "outputs": [],
   "source": [
    "# Cut degree fields with fewer than 500 observations\n",
    "exclude_fields = list(counts[counts['count'] < 500].index)\n",
    "df = df[~df['DEGFIELD'].isin(exclude_fields)]"
   ]
  },
  {
   "cell_type": "code",
   "execution_count": 10,
   "metadata": {},
   "outputs": [
    {
     "name": "stdout",
     "output_type": "stream",
     "text": [
      "Sample size: 381852\n"
     ]
    }
   ],
   "source": [
    "# Sample size\n",
    "N = len(df)\n",
    "print('Sample size: %d' % N)"
   ]
  },
  {
   "cell_type": "markdown",
   "metadata": {},
   "source": [
    "The final sample contains about 380,000 observations."
   ]
  },
  {
   "cell_type": "code",
   "execution_count": 11,
   "metadata": {
    "collapsed": true
   },
   "outputs": [],
   "source": [
    "# These are the unique values of each categorical variable,\n",
    "# which we will need later\n",
    "sex_range = df['SEX'].unique()\n",
    "race_range = df['RACE'].unique()\n",
    "degfield_range = df['DEGFIELD'].unique()"
   ]
  },
  {
   "cell_type": "markdown",
   "metadata": {},
   "source": [
    "## Summary statistics"
   ]
  },
  {
   "cell_type": "code",
   "execution_count": 12,
   "metadata": {},
   "outputs": [
    {
     "data": {
      "text/html": [
       "<div>\n",
       "<table border=\"1\" class=\"dataframe\">\n",
       "  <thead>\n",
       "    <tr style=\"text-align: right;\">\n",
       "      <th></th>\n",
       "      <th>INCWAGE</th>\n",
       "    </tr>\n",
       "    <tr>\n",
       "      <th>DEGFIELD</th>\n",
       "      <th></th>\n",
       "    </tr>\n",
       "  </thead>\n",
       "  <tbody>\n",
       "    <tr>\n",
       "      <th>Engineering</th>\n",
       "      <td>111888.19</td>\n",
       "    </tr>\n",
       "    <tr>\n",
       "      <th>Biology and Life Sciences</th>\n",
       "      <td>104841.85</td>\n",
       "    </tr>\n",
       "    <tr>\n",
       "      <th>Physical Sciences</th>\n",
       "      <td>102970.25</td>\n",
       "    </tr>\n",
       "    <tr>\n",
       "      <th>Mathematics and Statistics</th>\n",
       "      <td>100254.41</td>\n",
       "    </tr>\n",
       "    <tr>\n",
       "      <th>Computer and Information Sciences</th>\n",
       "      <td>95371.24</td>\n",
       "    </tr>\n",
       "    <tr>\n",
       "      <th>Social Sciences</th>\n",
       "      <td>95007.78</td>\n",
       "    </tr>\n",
       "    <tr>\n",
       "      <th>Transportation Sciences and Technologies</th>\n",
       "      <td>91478.05</td>\n",
       "    </tr>\n",
       "    <tr>\n",
       "      <th>Business</th>\n",
       "      <td>89170.16</td>\n",
       "    </tr>\n",
       "    <tr>\n",
       "      <th>Construction Services</th>\n",
       "      <td>88169.26</td>\n",
       "    </tr>\n",
       "    <tr>\n",
       "      <th>Engineering Technologies</th>\n",
       "      <td>87997.63</td>\n",
       "    </tr>\n",
       "  </tbody>\n",
       "</table>\n",
       "</div>"
      ],
      "text/plain": [
       "                                            INCWAGE\n",
       "DEGFIELD                                           \n",
       "Engineering                               111888.19\n",
       "Biology and Life Sciences                 104841.85\n",
       "Physical Sciences                         102970.25\n",
       "Mathematics and Statistics                100254.41\n",
       "Computer and Information Sciences          95371.24\n",
       "Social Sciences                            95007.78\n",
       "Transportation Sciences and Technologies   91478.05\n",
       "Business                                   89170.16\n",
       "Construction Services                      88169.26\n",
       "Engineering Technologies                   87997.63"
      ]
     },
     "execution_count": 12,
     "metadata": {},
     "output_type": "execute_result"
    }
   ],
   "source": [
    "# 10 degrees with highest average wage\n",
    "avg = df[['DEGFIELD','INCWAGE']].groupby('DEGFIELD') \\\n",
    "    .mean().sort_values('INCWAGE', ascending=False).round(2)\n",
    "avg.head(n=10)"
   ]
  },
  {
   "cell_type": "markdown",
   "metadata": {},
   "source": [
    "Above are the ten degrees with the highest average wage. Engineering and math-related fields are near the top. Social Sciences makes it as well -- perhaps these are the lawyers and other white-collar professionals in the sample. Somewhat more surprisingly, Construction Services makes it, too. This could be due to the fact, for example, that many of the construction workers in this sample are older than average, and older workers get paid more, or that the field has far more men than women, and men get paid more. Effects like this are why we need to run a regression as opposed to merely presenting averages."
   ]
  },
  {
   "cell_type": "code",
   "execution_count": 13,
   "metadata": {},
   "outputs": [
    {
     "data": {
      "text/html": [
       "<div>\n",
       "<table border=\"1\" class=\"dataframe\">\n",
       "  <thead>\n",
       "    <tr style=\"text-align: right;\">\n",
       "      <th></th>\n",
       "      <th>INCWAGE</th>\n",
       "    </tr>\n",
       "    <tr>\n",
       "      <th>DEGFIELD</th>\n",
       "      <th></th>\n",
       "    </tr>\n",
       "  </thead>\n",
       "  <tbody>\n",
       "    <tr>\n",
       "      <th>Interdisciplinary and Multi-Disciplinary Studies (General)</th>\n",
       "      <td>65311.32</td>\n",
       "    </tr>\n",
       "    <tr>\n",
       "      <th>Psychology</th>\n",
       "      <td>64891.02</td>\n",
       "    </tr>\n",
       "    <tr>\n",
       "      <th>Criminal Justice and Fire Protection</th>\n",
       "      <td>62744.77</td>\n",
       "    </tr>\n",
       "    <tr>\n",
       "      <th>Communication Technologies</th>\n",
       "      <td>59153.67</td>\n",
       "    </tr>\n",
       "    <tr>\n",
       "      <th>Fine Arts</th>\n",
       "      <td>57816.31</td>\n",
       "    </tr>\n",
       "    <tr>\n",
       "      <th>Public Affairs, Policy, and Social Work</th>\n",
       "      <td>57492.19</td>\n",
       "    </tr>\n",
       "    <tr>\n",
       "      <th>Physical Fitness, Parks, Recreation, and Leisure</th>\n",
       "      <td>57318.19</td>\n",
       "    </tr>\n",
       "    <tr>\n",
       "      <th>Education Administration and Teaching</th>\n",
       "      <td>54130.81</td>\n",
       "    </tr>\n",
       "    <tr>\n",
       "      <th>Family and Consumer Sciences</th>\n",
       "      <td>52532.09</td>\n",
       "    </tr>\n",
       "    <tr>\n",
       "      <th>Theology and Religious Vocations</th>\n",
       "      <td>50213.01</td>\n",
       "    </tr>\n",
       "  </tbody>\n",
       "</table>\n",
       "</div>"
      ],
      "text/plain": [
       "                                                     INCWAGE\n",
       "DEGFIELD                                                    \n",
       "Interdisciplinary and Multi-Disciplinary Studie...  65311.32\n",
       "Psychology                                          64891.02\n",
       "Criminal Justice and Fire Protection                62744.77\n",
       "Communication Technologies                          59153.67\n",
       "Fine Arts                                           57816.31\n",
       "Public Affairs, Policy, and Social Work             57492.19\n",
       "Physical Fitness, Parks, Recreation, and Leisure    57318.19\n",
       "Education Administration and Teaching               54130.81\n",
       "Family and Consumer Sciences                        52532.09\n",
       "Theology and Religious Vocations                    50213.01"
      ]
     },
     "execution_count": 13,
     "metadata": {},
     "output_type": "execute_result"
    }
   ],
   "source": [
    "# 10 degrees with lowest average wage\n",
    "avg.tail(n=10)"
   ]
  },
  {
   "cell_type": "markdown",
   "metadata": {},
   "source": [
    "Nothing too remarkable here -- these are largely vocational degrees that are unlikely to lead to high-paying, private-sector jobs or to further study. Psychology is particularly low-return for a social science degree."
   ]
  },
  {
   "cell_type": "code",
   "execution_count": 14,
   "metadata": {},
   "outputs": [
    {
     "data": {
      "text/html": [
       "<div>\n",
       "<table border=\"1\" class=\"dataframe\">\n",
       "  <thead>\n",
       "    <tr style=\"text-align: right;\">\n",
       "      <th>SEX</th>\n",
       "      <th>F</th>\n",
       "      <th>M</th>\n",
       "      <th>gap</th>\n",
       "    </tr>\n",
       "    <tr>\n",
       "      <th>DEGFIELD</th>\n",
       "      <th></th>\n",
       "      <th></th>\n",
       "      <th></th>\n",
       "    </tr>\n",
       "  </thead>\n",
       "  <tbody>\n",
       "    <tr>\n",
       "      <th>Biology and Life Sciences</th>\n",
       "      <td>80250.14</td>\n",
       "      <td>131089.66</td>\n",
       "      <td>50839.52</td>\n",
       "    </tr>\n",
       "    <tr>\n",
       "      <th>Social Sciences</th>\n",
       "      <td>71118.79</td>\n",
       "      <td>115645.19</td>\n",
       "      <td>44526.40</td>\n",
       "    </tr>\n",
       "    <tr>\n",
       "      <th>Law</th>\n",
       "      <td>60323.31</td>\n",
       "      <td>99913.38</td>\n",
       "      <td>39590.07</td>\n",
       "    </tr>\n",
       "    <tr>\n",
       "      <th>Physical Sciences</th>\n",
       "      <td>78073.79</td>\n",
       "      <td>117440.52</td>\n",
       "      <td>39366.73</td>\n",
       "    </tr>\n",
       "    <tr>\n",
       "      <th>Business</th>\n",
       "      <td>68970.09</td>\n",
       "      <td>106193.68</td>\n",
       "      <td>37223.59</td>\n",
       "    </tr>\n",
       "    <tr>\n",
       "      <th>Construction Services</th>\n",
       "      <td>56251.39</td>\n",
       "      <td>91078.23</td>\n",
       "      <td>34826.84</td>\n",
       "    </tr>\n",
       "    <tr>\n",
       "      <th>Medical and Health Sciences and Services</th>\n",
       "      <td>68499.75</td>\n",
       "      <td>103108.11</td>\n",
       "      <td>34608.36</td>\n",
       "    </tr>\n",
       "    <tr>\n",
       "      <th>History</th>\n",
       "      <td>65413.54</td>\n",
       "      <td>97434.48</td>\n",
       "      <td>32020.94</td>\n",
       "    </tr>\n",
       "    <tr>\n",
       "      <th>Mathematics and Statistics</th>\n",
       "      <td>81780.08</td>\n",
       "      <td>113362.21</td>\n",
       "      <td>31582.13</td>\n",
       "    </tr>\n",
       "    <tr>\n",
       "      <th>Area, Ethnic, and Civilization Studies</th>\n",
       "      <td>69384.48</td>\n",
       "      <td>100580.09</td>\n",
       "      <td>31195.61</td>\n",
       "    </tr>\n",
       "  </tbody>\n",
       "</table>\n",
       "</div>"
      ],
      "text/plain": [
       "SEX                                              F          M       gap\n",
       "DEGFIELD                                                               \n",
       "Biology and Life Sciences                 80250.14  131089.66  50839.52\n",
       "Social Sciences                           71118.79  115645.19  44526.40\n",
       "Law                                       60323.31   99913.38  39590.07\n",
       "Physical Sciences                         78073.79  117440.52  39366.73\n",
       "Business                                  68970.09  106193.68  37223.59\n",
       "Construction Services                     56251.39   91078.23  34826.84\n",
       "Medical and Health Sciences and Services  68499.75  103108.11  34608.36\n",
       "History                                   65413.54   97434.48  32020.94\n",
       "Mathematics and Statistics                81780.08  113362.21  31582.13\n",
       "Area, Ethnic, and Civilization Studies    69384.48  100580.09  31195.61"
      ]
     },
     "execution_count": 14,
     "metadata": {},
     "output_type": "execute_result"
    }
   ],
   "source": [
    "# Crosstab of average wage by gender and degree field\n",
    "ctab = pd.crosstab(\n",
    "    index=df['DEGFIELD'],\n",
    "    columns=df['SEX'],\n",
    "    values=df['INCWAGE'],\n",
    "    aggfunc=np.mean\n",
    ").round(2)\n",
    "ctab['gap'] = ctab['M'] - ctab['F']\n",
    "ctab.sort_values('gap', ascending=False).head(n=10)"
   ]
  },
  {
   "cell_type": "markdown",
   "metadata": {},
   "source": [
    "The field with the largest gender gap is Biology. Perhaps this reflects the fact that there are more male doctors and more female medical technicians, nurses or assistants. Across the board, however, the magnitude of the gender gap is pretty stunning -- a $50,000 difference in average salary is huge."
   ]
  },
  {
   "cell_type": "markdown",
   "metadata": {},
   "source": [
    "## OLS regression"
   ]
  },
  {
   "cell_type": "markdown",
   "metadata": {},
   "source": [
    "Let's run an OLS regression to control for age, sex and race. This let us tease apart the effects of demographics from the \"pure\" effect of the degree field. Note that this does not control for occupation; this is because I consider the choice of one's career as part of the effect of choosing a particular degree field.\n",
    "\n",
    "OLS estimates the average, or arithmetic mean, returns to each degree field. As the endogenous variable is log wage, we can think of the coefficient on each degree dummy as the average percent increase in wages one can expect if they choose that degree relative to the omitted category, Agriculture."
   ]
  },
  {
   "cell_type": "code",
   "execution_count": 15,
   "metadata": {},
   "outputs": [
    {
     "name": "stdout",
     "output_type": "stream",
     "text": [
      "Agriculture\n"
     ]
    }
   ],
   "source": [
    "# Check omitted category\n",
    "print(pd.get_dummies(df['DEGFIELD']).columns[0])"
   ]
  },
  {
   "cell_type": "code",
   "execution_count": 16,
   "metadata": {},
   "outputs": [
    {
     "name": "stdout",
     "output_type": "stream",
     "text": [
      "                            OLS Regression Results                            \n",
      "==============================================================================\n",
      "Dep. Variable:                 LNWAGE   R-squared:                       0.186\n",
      "Model:                            OLS   Adj. R-squared:                  0.186\n",
      "Method:                 Least Squares   F-statistic:                     2074.\n",
      "Date:                Mon, 08 May 2017   Prob (F-statistic):               0.00\n",
      "Time:                        17:16:16   Log-Likelihood:            -4.3020e+05\n",
      "No. Observations:              381852   AIC:                         8.605e+05\n",
      "Df Residuals:                  381809   BIC:                         8.609e+05\n",
      "Df Model:                          42                                         \n",
      "Covariance Type:            nonrobust                                         \n",
      "==============================================================================================================================\n",
      "                                                                 coef    std err          t      P>|t|      [95.0% Conf. Int.]\n",
      "------------------------------------------------------------------------------------------------------------------------------\n",
      "const                                                          7.5171      0.030    246.744      0.000         7.457     7.577\n",
      "AGE                                                            0.1313      0.001    126.153      0.000         0.129     0.133\n",
      "AGE_SQ                                                        -0.0014   1.25e-05   -108.241      0.000        -0.001    -0.001\n",
      "M                                                              0.3075      0.003    116.834      0.000         0.302     0.313\n",
      "Black/Negro                                                    0.0336      0.020      1.671      0.095        -0.006     0.073\n",
      "Chinese                                                        0.2817      0.021     13.397      0.000         0.240     0.323\n",
      "Japanese                                                       0.2090      0.027      7.722      0.000         0.156     0.262\n",
      "Other Asian or Pacific Islander                                0.1928      0.020      9.557      0.000         0.153     0.232\n",
      "Other race, nec                                               -0.0198      0.022     -0.900      0.368        -0.063     0.023\n",
      "Three or more major races                                      0.1236      0.030      4.055      0.000         0.064     0.183\n",
      "Two major races                                                0.1383      0.021      6.436      0.000         0.096     0.180\n",
      "White                                                          0.2304      0.020     11.732      0.000         0.192     0.269\n",
      "Architecture                                                   0.1386      0.018      7.613      0.000         0.103     0.174\n",
      "Area, Ethnic, and Civilization Studies                         0.1535      0.024      6.491      0.000         0.107     0.200\n",
      "Biology and Life Sciences                                      0.3212      0.012     26.005      0.000         0.297     0.345\n",
      "Business                                                       0.2004      0.011     17.561      0.000         0.178     0.223\n",
      "Communication Technologies                                    -0.0446      0.033     -1.332      0.183        -0.110     0.021\n",
      "Communications                                                 0.0807      0.013      6.433      0.000         0.056     0.105\n",
      "Computer and Information Sciences                              0.3074      0.013     24.197      0.000         0.283     0.332\n",
      "Construction Services                                          0.2490      0.028      8.969      0.000         0.195     0.303\n",
      "Criminal Justice and Fire Protection                          -0.0045      0.014     -0.323      0.747        -0.032     0.023\n",
      "Education Administration and Teaching                         -0.0787      0.012     -6.659      0.000        -0.102    -0.056\n",
      "Engineering                                                    0.4135      0.012     34.747      0.000         0.390     0.437\n",
      "Engineering Technologies                                       0.1815      0.017     10.466      0.000         0.148     0.215\n",
      "English Language, Literature, and Composition                  0.0393      0.013      2.974      0.003         0.013     0.065\n",
      "Environment and Natural Resources                              0.0034      0.018      0.191      0.849        -0.032     0.039\n",
      "Family and Consumer Sciences                                  -0.0875      0.018     -4.911      0.000        -0.122    -0.053\n",
      "Fine Arts                                                     -0.1275      0.013    -10.024      0.000        -0.152    -0.103\n",
      "History                                                        0.1084      0.014      7.694      0.000         0.081     0.136\n",
      "Interdisciplinary and Multi-Disciplinary Studies (General)     0.0698      0.018      3.927      0.000         0.035     0.105\n",
      "Law                                                            0.1189      0.031      3.791      0.000         0.057     0.180\n",
      "Liberal Arts and Humanities                                   -0.0343      0.016     -2.213      0.027        -0.065    -0.004\n",
      "Linguistics and Foreign Languages                              0.0470      0.017      2.775      0.006         0.014     0.080\n",
      "Mathematics and Statistics                                     0.3113      0.015     20.366      0.000         0.281     0.341\n",
      "Medical and Health Sciences and Services                       0.2452      0.012     20.435      0.000         0.222     0.269\n",
      "Philosophy and Religious Studies                              -0.0541      0.019     -2.895      0.004        -0.091    -0.017\n",
      "Physical Fitness, Parks, Recreation, and Leisure              -0.0769      0.016     -4.801      0.000        -0.108    -0.046\n",
      "Physical Sciences                                              0.2833      0.013     21.450      0.000         0.257     0.309\n",
      "Psychology                                                     0.0272      0.012      2.185      0.029         0.003     0.052\n",
      "Public Affairs, Policy, and Social Work                       -0.0355      0.015     -2.333      0.020        -0.065    -0.006\n",
      "Social Sciences                                                0.2275      0.012     18.994      0.000         0.204     0.251\n",
      "Theology and Religious Vocations                              -0.4025      0.019    -20.942      0.000        -0.440    -0.365\n",
      "Transportation Sciences and Technologies                       0.1848      0.024      7.592      0.000         0.137     0.233\n",
      "==============================================================================\n",
      "Omnibus:                    69867.664   Durbin-Watson:                   1.908\n",
      "Prob(Omnibus):                  0.000   Jarque-Bera (JB):           311071.084\n",
      "Skew:                          -0.837   Prob(JB):                         0.00\n",
      "Kurtosis:                       7.092   Cond. No.                     1.08e+05\n",
      "==============================================================================\n",
      "\n",
      "Warnings:\n",
      "[1] Standard Errors assume that the covariance matrix of the errors is correctly specified.\n",
      "[2] The condition number is large, 1.08e+05. This might indicate that there are\n",
      "strong multicollinearity or other numerical problems.\n"
     ]
    }
   ],
   "source": [
    "# Endogenous variable\n",
    "y = df['LNWAGE']\n",
    "# Exogenous variables\n",
    "X = pd.DataFrame()\n",
    "# Assume wages are quadratically dependent on age\n",
    "X['AGE'] = df['AGE']\n",
    "X['AGE_SQ'] = X['AGE']**2 \n",
    "# Drop the first dummy to avoid multicollinearity...\n",
    "X = X.join(pd.get_dummies(df['SEX'], drop_first=True))\n",
    "X = X.join(pd.get_dummies(df['RACE'], drop_first=True))\n",
    "X = X.join(pd.get_dummies(df['DEGFIELD'], drop_first=True))\n",
    "# ...and explicitly add a constant term\n",
    "X = sm.add_constant(X)\n",
    "# Fit the model\n",
    "res = sm.OLS(y, X).fit()\n",
    "print(res.summary())"
   ]
  },
  {
   "cell_type": "code",
   "execution_count": 17,
   "metadata": {
    "collapsed": true
   },
   "outputs": [],
   "source": [
    "coeffs = pd.DataFrame(index = degfield_range[1:], columns=['OLS','OLS_se'])\n",
    "for degfield in coeffs.index:\n",
    "    coeffs.loc[degfield]['OLS'] = res.params.get(degfield)\n",
    "    coeffs.loc[degfield]['OLS_se'] = res.bse.get(degfield)"
   ]
  },
  {
   "cell_type": "code",
   "execution_count": 18,
   "metadata": {},
   "outputs": [
    {
     "data": {
      "text/html": [
       "<div>\n",
       "<table border=\"1\" class=\"dataframe\">\n",
       "  <thead>\n",
       "    <tr style=\"text-align: right;\">\n",
       "      <th></th>\n",
       "      <th>OLS</th>\n",
       "      <th>OLS_se</th>\n",
       "    </tr>\n",
       "  </thead>\n",
       "  <tbody>\n",
       "    <tr>\n",
       "      <th>Engineering</th>\n",
       "      <td>0.413468</td>\n",
       "      <td>0.0118992</td>\n",
       "    </tr>\n",
       "    <tr>\n",
       "      <th>Biology and Life Sciences</th>\n",
       "      <td>0.321222</td>\n",
       "      <td>0.0123522</td>\n",
       "    </tr>\n",
       "    <tr>\n",
       "      <th>Mathematics and Statistics</th>\n",
       "      <td>0.311265</td>\n",
       "      <td>0.0152839</td>\n",
       "    </tr>\n",
       "    <tr>\n",
       "      <th>Computer and Information Sciences</th>\n",
       "      <td>0.307416</td>\n",
       "      <td>0.0127046</td>\n",
       "    </tr>\n",
       "    <tr>\n",
       "      <th>Physical Sciences</th>\n",
       "      <td>0.28333</td>\n",
       "      <td>0.013209</td>\n",
       "    </tr>\n",
       "    <tr>\n",
       "      <th>Construction Services</th>\n",
       "      <td>0.249006</td>\n",
       "      <td>0.027762</td>\n",
       "    </tr>\n",
       "    <tr>\n",
       "      <th>Medical and Health Sciences and Services</th>\n",
       "      <td>0.245174</td>\n",
       "      <td>0.0119979</td>\n",
       "    </tr>\n",
       "    <tr>\n",
       "      <th>Social Sciences</th>\n",
       "      <td>0.227526</td>\n",
       "      <td>0.011979</td>\n",
       "    </tr>\n",
       "    <tr>\n",
       "      <th>Business</th>\n",
       "      <td>0.200394</td>\n",
       "      <td>0.0114112</td>\n",
       "    </tr>\n",
       "    <tr>\n",
       "      <th>Transportation Sciences and Technologies</th>\n",
       "      <td>0.184832</td>\n",
       "      <td>0.0243456</td>\n",
       "    </tr>\n",
       "  </tbody>\n",
       "</table>\n",
       "</div>"
      ],
      "text/plain": [
       "                                               OLS     OLS_se\n",
       "Engineering                               0.413468  0.0118992\n",
       "Biology and Life Sciences                 0.321222  0.0123522\n",
       "Mathematics and Statistics                0.311265  0.0152839\n",
       "Computer and Information Sciences         0.307416  0.0127046\n",
       "Physical Sciences                          0.28333   0.013209\n",
       "Construction Services                     0.249006   0.027762\n",
       "Medical and Health Sciences and Services  0.245174  0.0119979\n",
       "Social Sciences                           0.227526   0.011979\n",
       "Business                                  0.200394  0.0114112\n",
       "Transportation Sciences and Technologies  0.184832  0.0243456"
      ]
     },
     "execution_count": 18,
     "metadata": {},
     "output_type": "execute_result"
    }
   ],
   "source": [
    "coeffs.sort_values('OLS', ascending=False).head(n=10)"
   ]
  },
  {
   "cell_type": "markdown",
   "metadata": {},
   "source": [
    "The highest-return fields, controlling for demographic characteristics, are largely the same as the simple list of mean wages, although the order is permuted. However, Medical Services enters in this list in place of Engineering Technologies. One hypothesis is that the population of those who study Military Technologies might be heavily skewed male, which would increase the field's average wage, and the population of those who study Medical Services is heavily skewed female. To check this, we compute the number of graduates by sex for each of these fields in the sample."
   ]
  },
  {
   "cell_type": "code",
   "execution_count": 19,
   "metadata": {},
   "outputs": [
    {
     "data": {
      "text/html": [
       "<div>\n",
       "<table border=\"1\" class=\"dataframe\">\n",
       "  <thead>\n",
       "    <tr style=\"text-align: right;\">\n",
       "      <th></th>\n",
       "      <th></th>\n",
       "      <th>count</th>\n",
       "    </tr>\n",
       "    <tr>\n",
       "      <th>DEGFIELD</th>\n",
       "      <th>SEX</th>\n",
       "      <th></th>\n",
       "    </tr>\n",
       "  </thead>\n",
       "  <tbody>\n",
       "    <tr>\n",
       "      <th rowspan=\"2\" valign=\"top\">Engineering Technologies</th>\n",
       "      <th>F</th>\n",
       "      <td>518</td>\n",
       "    </tr>\n",
       "    <tr>\n",
       "      <th>M</th>\n",
       "      <td>2634</td>\n",
       "    </tr>\n",
       "    <tr>\n",
       "      <th rowspan=\"2\" valign=\"top\">Medical and Health Sciences and Services</th>\n",
       "      <th>F</th>\n",
       "      <td>24114</td>\n",
       "    </tr>\n",
       "    <tr>\n",
       "      <th>M</th>\n",
       "      <td>5204</td>\n",
       "    </tr>\n",
       "  </tbody>\n",
       "</table>\n",
       "</div>"
      ],
      "text/plain": [
       "                                              count\n",
       "DEGFIELD                                 SEX       \n",
       "Engineering Technologies                 F      518\n",
       "                                         M     2634\n",
       "Medical and Health Sciences and Services F    24114\n",
       "                                         M     5204"
      ]
     },
     "execution_count": 19,
     "metadata": {},
     "output_type": "execute_result"
    }
   ],
   "source": [
    "df[(df['DEGFIELD'] == 'Engineering Technologies') | \\\n",
    "   (df['DEGFIELD'] == 'Medical and Health Sciences and Services')] \\\n",
    "    [['DEGFIELD','SEX','AGE']].groupby(['DEGFIELD','SEX']) \\\n",
    "    .count().rename(columns={'AGE':'count'})"
   ]
  },
  {
   "cell_type": "markdown",
   "metadata": {},
   "source": [
    "The hypothesis seems to be true. So, Military Technologies isn't actually a great degree to pursue if you're interested in future earnings (and not male), and Medical Services might be better."
   ]
  },
  {
   "cell_type": "markdown",
   "metadata": {},
   "source": [
    "## Quantile regression"
   ]
  },
  {
   "cell_type": "markdown",
   "metadata": {},
   "source": [
    "Now, we run the same regression, except instead of estimating the mean returns to field of degree, we will estimate returns at quantiles ranging from the 5th percentile to the 95th percentile. This is motivated by the idea that perhaps most Business graduates only earn moderate wages, except those that go on to become CEOs -- the mean returns will then be very different from the returns at the highest quantiles."
   ]
  },
  {
   "cell_type": "code",
   "execution_count": 20,
   "metadata": {
    "collapsed": true
   },
   "outputs": [],
   "source": [
    "# Here are the quantiles we will compute:\n",
    "# 5th percentile to the 95th percentile, by fives\n",
    "quantiles = np.arange(0.05, 1, 0.05)\n",
    "# Bin observations by age: we choose\n",
    "# bins of size 5, starting with age 23\n",
    "age_range = list(np.arange(23, 58, 5))"
   ]
  },
  {
   "cell_type": "code",
   "execution_count": null,
   "metadata": {
    "collapsed": true
   },
   "outputs": [],
   "source": [
    "def quantile_estimate(data, tau):\n",
    "    \"\"\"\n",
    "    Takes a Series data and a quantile tau and\n",
    "    returns (pi, s2, se), where\n",
    "    - pi is an estimate of the quantile\n",
    "    - s2 is an estimate of the variance,\n",
    "    - se is an estimate of the standard error.\n",
    "    \"\"\"\n",
    "    try:\n",
    "        # Sort the data\n",
    "        data = sorted(data)\n",
    "        n = len(data)\n",
    "        # Estimate of the quantile\n",
    "        pi = np.percentile(data, q=tau*100)\n",
    "        # z-value for a 95% confidence interval\n",
    "        z = scipy.stats.norm.ppf(0.975)\n",
    "        l = z*math.sqrt(n*tau*(1-tau))\n",
    "        # Index of lower bound\n",
    "        j = math.floor(n*tau - l)\n",
    "        # Lower bound of CI\n",
    "        lbound = data[j-1]\n",
    "        # Index of upper bound\n",
    "        k = math.ceil(n*tau + l)\n",
    "        # Upper bound of CI\n",
    "        ubound = data[k-1]\n",
    "        # Variance estimator\n",
    "        s2 = n*(ubound-lbound)**2/(4*z**2)    \n",
    "        # Standard error estimator\n",
    "        se = math.sqrt(s2/n)\n",
    "        return pi, s2, se\n",
    "    except:\n",
    "        # This happens if the index of the lower/\n",
    "        # upper bound, j or k, is outside the range\n",
    "        # of the data. In this case, just drop\n",
    "        # this cell\n",
    "        return None, None, None"
   ]
  },
  {
   "cell_type": "code",
   "execution_count": null,
   "metadata": {
    "collapsed": true
   },
   "outputs": [],
   "source": [
    "# We'll store our estimates here\n",
    "estimates = pd.DataFrame(columns=[\n",
    "    'age',\n",
    "    'sex',\n",
    "    'race',\n",
    "    'degfield',\n",
    "    'n', # number of observations in this bin\n",
    "    'tau', # quantile of interest\n",
    "    'pi', # quantile estimate\n",
    "    's2', # variance estimate\n",
    "    'se' # standard error estimate\n",
    "])\n",
    "\n",
    "# Iterate through the Cartesian product of the bins\n",
    "for combination in product(age_range, sex_range, race_range, degfield_range):\n",
    "    age, sex, race, degfield = combination\n",
    "    # Get the right data\n",
    "    subset = df[(df['AGE'] >= age) & (df['AGE'] < (age + 5)) \\\n",
    "             & (df['SEX'] == sex) & (df['RACE'] == race) \\\n",
    "             & (df['DEGFIELD'] == degfield)]\n",
    "    earnings = subset['LNWAGE']\n",
    "    n = len(earnings)\n",
    "    # Minimum number of observations in each bin\n",
    "    if n < 50:\n",
    "        continue\n",
    "    # Estimate each quantile and standard error\n",
    "    for quantile in quantiles:\n",
    "        pi, s2, se = quantile_estimate(earnings, quantile)\n",
    "        # Drop bad bins\n",
    "        if not pi:\n",
    "            continue\n",
    "        estimates = estimates.append({\n",
    "            'age': age,\n",
    "            'sex': sex,\n",
    "            'race': race,\n",
    "            'degfield': degfield,\n",
    "            'tau': quantile,\n",
    "            'n': n,\n",
    "            'pi': pi,\n",
    "            's2': s2,\n",
    "            'se': se\n",
    "        }, ignore_index=True)"
   ]
  },
  {
   "cell_type": "code",
   "execution_count": null,
   "metadata": {},
   "outputs": [],
   "source": [
    "# Drop if variance estimate is 0\n",
    "print(len(estimates))\n",
    "estimates = estimates[estimates['s2'] > 0]\n",
    "print(len(estimates))"
   ]
  },
  {
   "cell_type": "markdown",
   "metadata": {},
   "source": [
    "We're dropping about 50 cells because the variance estimate is zero -- we have a series of values with the exact same earnings, thus we can't get an estimate of the variance using the method outlined in Chamberlain (1994).\n",
    "\n",
    "Now, we regress the estimates for each cell for each quantile separately. The standard errors of our coefficients are given by $se(\\alpha) = \\sqrt{\\text{diag}[(X^{T}\\Omega X)^{-1}/N]}$, while the standard errors reported by the WLS program are $se^*(\\alpha) = \\sqrt{s^2 \\cdot \\text{diag}[(X^{T}\\Omega X)^{-1}]}$, where $s^2$ is the standard error of the regression, $\\Omega$ is the matrix of weights, and $N$ is the total number of observations. So, we correct the standard error reported by the WLS program, $se^*(\\alpha)$, with the following:\n",
    "\n",
    "$$se(\\alpha) = \\frac{se^*(\\alpha)}{\\sqrt{s^2 \\cdot N}}.$$"
   ]
  },
  {
   "cell_type": "code",
   "execution_count": null,
   "metadata": {
    "collapsed": true
   },
   "outputs": [],
   "source": [
    "def quantile_regress(data):\n",
    "    \"\"\"\n",
    "    Takes a DataFrame data and returns a DataFrame\n",
    "    of coefficients and standard errors for each\n",
    "    degree field.\n",
    "    \"\"\"\n",
    "    # Endogenous variable\n",
    "    y = data['pi']\n",
    "    # Exogenous variables\n",
    "    X = pd.DataFrame()\n",
    "    # Midpoint of the age range\n",
    "    X['age'] = data['age'] + 2.5\n",
    "    # Age squared\n",
    "    X['age_sq'] = X['age']**2\n",
    "    X = X.join(pd.get_dummies(data['sex'], drop_first=True))\n",
    "    X = X.join(pd.get_dummies(data['race'], drop_first=True))\n",
    "    X = X.join(pd.get_dummies(data['degfield'], drop_first=True))\n",
    "    X = sm.add_constant(X)\n",
    "    # WLS weights\n",
    "    weights = data['n']/(N * data['s2'])\n",
    "    # Fit the model\n",
    "    res = sm.WLS(y, X, weights).fit()\n",
    "    # Correct the standard errors\n",
    "    res.bse = res.bse / math.sqrt(res.mse_resid * N)\n",
    "    \n",
    "    # Construct a DataFrame to store the coefficients on each\n",
    "    # degree field\n",
    "    q_coeffs = pd.DataFrame(\n",
    "        index = degfield_range[1:],\n",
    "        columns=['q','q_se'])\n",
    "    for degfield in q_coeffs.index:\n",
    "        q_coeffs.loc[degfield]['q'] = res.params.get(degfield)\n",
    "        q_coeffs.loc[degfield]['q_se'] = res.bse.get(degfield)\n",
    "    \n",
    "    return q_coeffs"
   ]
  },
  {
   "cell_type": "code",
   "execution_count": null,
   "metadata": {
    "collapsed": true
   },
   "outputs": [],
   "source": [
    "# Run the regression for each quantile\n",
    "for quantile in quantiles:\n",
    "    data = estimates[estimates['tau'] == quantile]\n",
    "    q_coeffs = quantile_regress(data)\n",
    "    q_coeffs.columns = [\n",
    "        'q{0:0.02f}'.format(quantile),\n",
    "        'q{0:0.02f}_se'.format(quantile)]\n",
    "    coeffs = coeffs.join(q_coeffs)"
   ]
  },
  {
   "cell_type": "code",
   "execution_count": null,
   "metadata": {
    "collapsed": true
   },
   "outputs": [],
   "source": [
    "coeffs = coeffs.dropna()"
   ]
  },
  {
   "cell_type": "code",
   "execution_count": null,
   "metadata": {},
   "outputs": [],
   "source": [
    "# 10 highest return majors at the 5th percentile of earnings\n",
    "coeffs[['q0.05','q0.05_se']].sort_values('q0.05', ascending=False).head(n=10)"
   ]
  },
  {
   "cell_type": "code",
   "execution_count": null,
   "metadata": {},
   "outputs": [],
   "source": [
    "# 10 highest return majors at the 95th percentile of earnings\n",
    "coeffs[['q0.95','q0.95_se']].sort_values('q0.95', ascending=False).head(n=10)"
   ]
  },
  {
   "cell_type": "markdown",
   "metadata": {},
   "source": [
    "Now, this is interesting. The ranking is fairly different between the 5th percentile and the 95th percentile of earners. In particular, Construction Services is the highest-return major for low earners, but doesn't even make the top ten for the high earners. Likewise, Biology is the highest-return major for high earners, but doesn't make the list for low earners. This makes sense: construction work is relatively well-paying among blue-collar jobs, while doctors earn high wages even among high earners.\n",
    "\n",
    "Unexpectedly, Computer Science doesn't make the list of high-return majors at the 95th percentile. Computer Science might be a good middle-class or upper-middle class major, then, but isn't as common among the super-rich. It's a conservative major choice.\n",
    "\n",
    "I'm also interested in how Linguistics and English Language made the list at the 95th percentile. I suspect this is a group of students who go on to pursue higher degrees; an extension of this analysis could be be to control for highest degree earned in the regression.\n",
    "\n",
    "To get a better sense of the returns to each major, we plot the quantile regression coefficient versus the quantile, by degree field."
   ]
  },
  {
   "cell_type": "code",
   "execution_count": null,
   "metadata": {
    "collapsed": true
   },
   "outputs": [],
   "source": [
    "# Sort by median returns\n",
    "coeffs = coeffs.sort_values('q0.50', ascending=False)"
   ]
  },
  {
   "cell_type": "code",
   "execution_count": null,
   "metadata": {},
   "outputs": [],
   "source": [
    "fig, axs = plt.subplots((len(coeffs.index) // 3), 3, figsize=(20,40))\n",
    "fig.subplots_adjust(hspace=0.5, wspace=0.3)\n",
    "\n",
    "for ax, degfield in zip(axs.ravel(), coeffs.index):\n",
    "    ax.set_title(degfield)\n",
    "    ax.set_xlim([0,1])\n",
    "    ax.set_xlabel(r'$\\tau$ (quantile)')\n",
    "    ax.set_ylabel(r'$\\alpha$ (regression coefficient)')\n",
    "    # Parameter point estimates for quantiles\n",
    "    y = list(coeffs.loc[degfield][['q{0:0.02f}'.format(quantile) \\\n",
    "            for quantile in quantiles]])\n",
    "    sc = ax.scatter(quantiles, y)\n",
    "    # Standard errors for quantile estimates\n",
    "    se = coeffs.loc[degfield][['q{0:0.02f}_se'.format(quantile) \\\n",
    "            for quantile in quantiles]]\n",
    "    # z-value for a 95% confidence interval\n",
    "    z = scipy.stats.norm.ppf(0.975)\n",
    "    # CI lower and upper bounds\n",
    "    lower = list(y - z*se)\n",
    "    upper = list(y + z*se)\n",
    "    # Plot confidence band\n",
    "    ci = ax.fill_between(\n",
    "        quantiles,\n",
    "        lower,\n",
    "        upper,\n",
    "        facecolor='red',\n",
    "        alpha=0.1\n",
    "    )\n",
    "    # 95% CI for OLS estimate\n",
    "    y2 = list(coeffs.loc[degfield][['OLS'.format(quantile) \\\n",
    "            for quantile in quantiles]])\n",
    "    se2 = coeffs.loc[degfield][['OLS_se'.format(quantile) \\\n",
    "            for quantile in quantiles]]\n",
    "    lower2 = list(y2 - z*se2)\n",
    "    upper2 = list(y2 + z*se2)\n",
    "    # http://stackoverflow.com/questions/11983024/matplotlib-legends-not-working\n",
    "    ci2, = ax.plot(quantiles, upper2, '-', color='g', ls='dotted')\n",
    "    ax.plot(quantiles, lower2, '-', color='g', ls='dotted')\n",
    "\n",
    "leg = plt.figlegend(\n",
    "    (sc, ci, ci2),\n",
    "    ('Quantile point estimate',\n",
    "     'Quantile 95% pointwise confidence band',\n",
    "     'OLS 95% confidence band'),\n",
    "    loc = 'upper center')\n",
    "\n",
    "# http://stackoverflow.com/questions/23238041/move-and-resize-legends-box-in-matplotlib\n",
    "plt.draw() # Draw the figure to find the position of the legend\n",
    "# Get the bounding box of the original legend\n",
    "bb = leg.get_bbox_to_anchor().inverse_transformed(ax.transAxes)\n",
    "# Change the location of the legend\n",
    "yOffset = -1\n",
    "bb.y0 += yOffset\n",
    "bb.y1 += yOffset\n",
    "leg.set_bbox_to_anchor(bb, transform = ax.transAxes)\n",
    "\n",
    "plt.show()"
   ]
  },
  {
   "cell_type": "markdown",
   "metadata": {
    "collapsed": true
   },
   "source": [
    "There are many interesting points to be made here, but here are a few key findings:\n",
    "* There are some majors whose returns pick up dramatically at the upper end of the earnings distribution, namely Biology, Social Sciences, Physical Sciences, and History. This probably reflects the fact that there are mostly relatively low-paying jobs available to those majors whose terminal degree is a bachelor's, but some students pursue further education and end up as well-paid professionals. We can imagine this being particularly true for Biology students -- the wage differential between a lab assistant and a surgeon is huge.\n",
    "* Business picks up at the 95th percentile: it's a relatively common major and is thus not unusually well-paying across most of the distribution, but there are likely a group of highly-paid executives that make business high-return at the upper end of the distribution.\n",
    "* There are a few majors whose returns consistently decline as we move up the earnings distribution, namely Education, Medical Services, Engineering, Computer Science and Architecture. It's not completely clear what's going on here, but one hypothesis is that these fields lead to well-paying jobs, but limited room for advancement. In other words, you're likely to make a good salary for most of your life, but unlikely to get rich.\n",
    "* Construction Services is one of the highest-return majors at the low quantiles, but has *negative* returns (in other words, lower returns than Agriculture) at the highest quantiles.\n",
    "* The best Fine Arts graduates are doing okay, but across most of the earnings distribution, the major has negative returns compared to Agriculture.\n",
    "* In general, the quantile estimates across much of the earnings distribution lie outside the OLS confidence band. This means that estimating the effect on average wages, as OLS does, does not tell the whole story.\n",
    "\n",
    "An important consideration is that at *each* quantile, coefficients are estimated relative to the omitted category, Agriculture. Thus, we assume the line for Agriculture is relatively flat across quantiles, otherwise all of the other lines will be tilted accordingly. There is no good way of gauging which major to pick as the omitted category besides avoiding fields like Business, which we expect to have very different returns at different quantiles.\n",
    "\n",
    "In my opinion, the primary limitation of this analysis is that it doesn't control for degrees beyond a bachelor's. In other words, it could be the case that the 95th percentile of English majors are people who go on to law school and become wealthy. You could consider this part of the effect of earning an English degree, but it's also interesting to examine *just* the effect of the bachelor's degree field of study, controlling for higher degrees earned. It wouldn't be complicated to incorporate this -- the ACS has this field -- but with this quantile regression approach, at some point, the cell sizes will become too small. Also, these major codes are relatively coarse; Economics, for example, is absorbed in Social Sciences. The ACS has more specific major information (Chemistry as opposed to \"Physical Sciences\"), but again, we need to maintain sufficient cell size to estimate the quantiles (especially the extreme quantiles) with enough precision. If we aggregate data across multiple years of the ACS and use inflation-adjusted wages, and make the assumption that the returns to each major haven't changed dramatically over time, then we would likely have enough data to estimate these coefficients for the disaggregated major codes. These are promising areas for future work."
   ]
  }
 ],
 "metadata": {
  "kernelspec": {
   "display_name": "Python 3",
   "language": "python",
   "name": "python3"
  },
  "language_info": {
   "codemirror_mode": {
    "name": "ipython",
    "version": 3
   },
   "file_extension": ".py",
   "mimetype": "text/x-python",
   "name": "python",
   "nbconvert_exporter": "python",
   "pygments_lexer": "ipython3",
   "version": "3.4.3"
  }
 },
 "nbformat": 4,
 "nbformat_minor": 2
}
