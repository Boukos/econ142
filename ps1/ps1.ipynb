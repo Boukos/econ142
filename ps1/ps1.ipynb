{
 "cells": [
  {
   "cell_type": "markdown",
   "metadata": {},
   "source": [
    "# Econ C142 Problem Set 1\n",
    "# Sahil Chinoy"
   ]
  },
  {
   "cell_type": "code",
   "execution_count": 96,
   "metadata": {
    "collapsed": true
   },
   "outputs": [],
   "source": [
    "%matplotlib inline\n",
    "import pandas as pd\n",
    "import numpy as np\n",
    "import statsmodels.api as sm\n",
    "import matplotlib.pyplot as plt"
   ]
  },
  {
   "cell_type": "code",
   "execution_count": 97,
   "metadata": {
    "collapsed": false
   },
   "outputs": [],
   "source": [
    "# Import the data\n",
    "df = pd.read_table(\n",
    "    'http://people.stern.nyu.edu/wgreene/Text/tables/TableF14-2.txt',\n",
    "    delim_whitespace=True,\n",
    "    skiprows=2,\n",
    "    header=None,\n",
    "    names=[\n",
    "        'firm',\n",
    "        'year',\n",
    "        'cost',\n",
    "        'output',\n",
    "        'wage',\n",
    "        'labor_share',\n",
    "        'capital_price',\n",
    "        'capital_share',\n",
    "        'fuel_price',\n",
    "        'fuel_share'\n",
    "    ],\n",
    "    usecols=[\n",
    "        'cost',\n",
    "        'output',\n",
    "        'wage',\n",
    "        'labor_share',\n",
    "        'capital_price',\n",
    "        'capital_share',\n",
    "        'fuel_price',\n",
    "        'fuel_share'\n",
    "    ]\n",
    ")\n",
    "# Keep only the first 145 observations\n",
    "df = df.head(n=145)"
   ]
  },
  {
   "cell_type": "markdown",
   "metadata": {},
   "source": [
    "## Problem 1"
   ]
  },
  {
   "cell_type": "code",
   "execution_count": 98,
   "metadata": {
    "collapsed": false
   },
   "outputs": [],
   "source": [
    "# Add a constant\n",
    "df = sm.add_constant(df)\n",
    "# Endogenous variable: log electrical cost / fuel price\n",
    "y = np.log(df['cost'] / df['fuel_price'])\n",
    "# Exogenous variables...\n",
    "X = pd.DataFrame()\n",
    "# ... constant\n",
    "X['c'] = df['const']\n",
    "# ... log output\n",
    "X['Y'] = np.log(df['output'])\n",
    "# ... log rent / fuel price\n",
    "X['R'] = np.log(df['capital_price'] / df['fuel_price'])\n",
    "# ... log wage / fuel price\n",
    "X['W'] = np.log(df['wage'] / df['fuel_price'])"
   ]
  },
  {
   "cell_type": "markdown",
   "metadata": {},
   "source": [
    "We assume a Cobb-Douglas production function of the form $Y = A K^\\alpha L^\\beta F^\\gamma$, and fit the model\n",
    "\n",
    "$$\\ln C_i - \\ln P_i = K + q_0 \\ln Y_i + a_0 (\\ln R_i - \\ln P_i) + b_0 (\\ln W_i - \\ln P_i)$$\n",
    "\n",
    "where $C_i$ is cost, $P_i$ is fuel price, $Y_i$ is output, $R_i$ is the price of capital (rent), and $W_i$ is the wage level.\n",
    "\n",
    "Then $q_0 = \\frac{1}{\\eta}$, $a_0 = \\frac{\\alpha}{\\eta}$, and $b_0 = \\frac{\\beta}{\\eta}$. We also know $\\gamma = \\eta - \\alpha -\\beta$."
   ]
  },
  {
   "cell_type": "code",
   "execution_count": 99,
   "metadata": {
    "collapsed": false
   },
   "outputs": [
    {
     "data": {
      "text/html": [
       "<table class=\"simpletable\">\n",
       "<caption>OLS Regression Results</caption>\n",
       "<tr>\n",
       "  <th>Dep. Variable:</th>            <td>y</td>        <th>  R-squared:         </th> <td>   0.932</td>\n",
       "</tr>\n",
       "<tr>\n",
       "  <th>Model:</th>                   <td>OLS</td>       <th>  Adj. R-squared:    </th> <td>   0.930</td>\n",
       "</tr>\n",
       "<tr>\n",
       "  <th>Method:</th>             <td>Least Squares</td>  <th>  F-statistic:       </th> <td>   640.1</td>\n",
       "</tr>\n",
       "<tr>\n",
       "  <th>Date:</th>             <td>Fri, 17 Feb 2017</td> <th>  Prob (F-statistic):</th> <td>6.87e-82</td>\n",
       "</tr>\n",
       "<tr>\n",
       "  <th>Time:</th>                 <td>11:23:35</td>     <th>  Log-Likelihood:    </th> <td> -67.826</td>\n",
       "</tr>\n",
       "<tr>\n",
       "  <th>No. Observations:</th>      <td>   145</td>      <th>  AIC:               </th> <td>   143.7</td>\n",
       "</tr>\n",
       "<tr>\n",
       "  <th>Df Residuals:</th>          <td>   141</td>      <th>  BIC:               </th> <td>   155.6</td>\n",
       "</tr>\n",
       "<tr>\n",
       "  <th>Df Model:</th>              <td>     3</td>      <th>                     </th>     <td> </td>   \n",
       "</tr>\n",
       "<tr>\n",
       "  <th>Covariance Type:</th>      <td>nonrobust</td>    <th>                     </th>     <td> </td>   \n",
       "</tr>\n",
       "</table>\n",
       "<table class=\"simpletable\">\n",
       "<tr>\n",
       "  <td></td>     <th>coef</th>     <th>std err</th>      <th>t</th>      <th>P>|t|</th> <th>[95.0% Conf. Int.]</th> \n",
       "</tr>\n",
       "<tr>\n",
       "  <th>c</th> <td>   -4.6858</td> <td>    0.885</td> <td>   -5.293</td> <td> 0.000</td> <td>   -6.436    -2.936</td>\n",
       "</tr>\n",
       "<tr>\n",
       "  <th>Y</th> <td>    0.7207</td> <td>    0.017</td> <td>   41.335</td> <td> 0.000</td> <td>    0.686     0.755</td>\n",
       "</tr>\n",
       "<tr>\n",
       "  <th>R</th> <td>   -0.0085</td> <td>    0.191</td> <td>   -0.044</td> <td> 0.965</td> <td>   -0.386     0.369</td>\n",
       "</tr>\n",
       "<tr>\n",
       "  <th>W</th> <td>    0.5940</td> <td>    0.205</td> <td>    2.903</td> <td> 0.004</td> <td>    0.189     0.999</td>\n",
       "</tr>\n",
       "</table>\n",
       "<table class=\"simpletable\">\n",
       "<tr>\n",
       "  <th>Omnibus:</th>       <td>49.395</td> <th>  Durbin-Watson:     </th> <td>   1.016</td>\n",
       "</tr>\n",
       "<tr>\n",
       "  <th>Prob(Omnibus):</th> <td> 0.000</td> <th>  Jarque-Bera (JB):  </th> <td> 166.569</td>\n",
       "</tr>\n",
       "<tr>\n",
       "  <th>Skew:</th>          <td> 1.251</td> <th>  Prob(JB):          </th> <td>6.76e-37</td>\n",
       "</tr>\n",
       "<tr>\n",
       "  <th>Kurtosis:</th>      <td> 7.616</td> <th>  Cond. No.          </th> <td>    215.</td>\n",
       "</tr>\n",
       "</table>"
      ],
      "text/plain": [
       "<class 'statsmodels.iolib.summary.Summary'>\n",
       "\"\"\"\n",
       "                            OLS Regression Results                            \n",
       "==============================================================================\n",
       "Dep. Variable:                      y   R-squared:                       0.932\n",
       "Model:                            OLS   Adj. R-squared:                  0.930\n",
       "Method:                 Least Squares   F-statistic:                     640.1\n",
       "Date:                Fri, 17 Feb 2017   Prob (F-statistic):           6.87e-82\n",
       "Time:                        11:23:35   Log-Likelihood:                -67.826\n",
       "No. Observations:                 145   AIC:                             143.7\n",
       "Df Residuals:                     141   BIC:                             155.6\n",
       "Df Model:                           3                                         \n",
       "Covariance Type:            nonrobust                                         \n",
       "==============================================================================\n",
       "                 coef    std err          t      P>|t|      [95.0% Conf. Int.]\n",
       "------------------------------------------------------------------------------\n",
       "c             -4.6858      0.885     -5.293      0.000        -6.436    -2.936\n",
       "Y              0.7207      0.017     41.335      0.000         0.686     0.755\n",
       "R             -0.0085      0.191     -0.044      0.965        -0.386     0.369\n",
       "W              0.5940      0.205      2.903      0.004         0.189     0.999\n",
       "==============================================================================\n",
       "Omnibus:                       49.395   Durbin-Watson:                   1.016\n",
       "Prob(Omnibus):                  0.000   Jarque-Bera (JB):              166.569\n",
       "Skew:                           1.251   Prob(JB):                     6.76e-37\n",
       "Kurtosis:                       7.616   Cond. No.                         215.\n",
       "==============================================================================\n",
       "\n",
       "Warnings:\n",
       "[1] Standard Errors assume that the covariance matrix of the errors is correctly specified.\n",
       "\"\"\""
      ]
     },
     "execution_count": 99,
     "metadata": {},
     "output_type": "execute_result"
    }
   ],
   "source": [
    "# Compute the least-squares fit\n",
    "res1 = sm.OLS(y, X).fit()\n",
    "res1.summary()"
   ]
  },
  {
   "cell_type": "code",
   "execution_count": 100,
   "metadata": {
    "collapsed": false
   },
   "outputs": [
    {
     "name": "stdout",
     "output_type": "stream",
     "text": [
      "eta: 1.387604\n",
      "alpha: -0.011754\n",
      "beta: 0.824197\n",
      "gamma: 0.575160\n",
      "gamma/eta: 0.414499\n"
     ]
    }
   ],
   "source": [
    "eta = 1/res1.params['Y']\n",
    "print('eta: %f' % eta)\n",
    "alpha = res1.params['R'] * eta\n",
    "print('alpha: %f' % alpha)\n",
    "beta = res1.params['W'] * eta\n",
    "print('beta: %f' % beta)\n",
    "gamma = eta - (alpha + beta)\n",
    "print('gamma: %f' % gamma)\n",
    "d = gamma/eta\n",
    "print('gamma/eta: %f' % d)"
   ]
  },
  {
   "cell_type": "markdown",
   "metadata": {},
   "source": [
    "| Coefficient | Estimate | $t$ |\n",
    "| ----------- |--------:| --:|\n",
    "| $q_0$ | 0.72  | 41   |\n",
    "| $a_0$ | -0.01 | 0.04 |\n",
    "| $b_0$ | 0.59  | 2.90 |"
   ]
  },
  {
   "cell_type": "markdown",
   "metadata": {},
   "source": [
    "The coefficient on output $q_0 = 0.72$ and is statistically significant with a $t$-statistic of 41. This means that the returns-to-scale parameter $\\eta = 1.39$, implying increasing returns to scale for these utilities.\n",
    "\n",
    "The coefficient on rents, $a_0$ is negative. This implies a negative elasticity of output with respect to capital: if capital increases, then output decreases. This is implausible; however, the coefficient is small and not statistically sigificant, with a $t$-statistic of 0.04.\n",
    "\n",
    "The coefficient on wages $b_0 = 0.59$ is statistically significant with a $t$-statistic of 2.90, and yields an estimate for the elasticity of output with respect to labor $\\beta = 0.82$. This is positive, as expected.\n",
    "\n",
    "Together, the estimates for $\\eta$, $\\alpha$ and $\\beta$ imply an estimate for the elasticity of output with respect to fuel $\\gamma = 0.58$. This is positive, as expected."
   ]
  },
  {
   "cell_type": "markdown",
   "metadata": {},
   "source": [
    "## Problem 2"
   ]
  },
  {
   "cell_type": "code",
   "execution_count": 101,
   "metadata": {
    "collapsed": false
   },
   "outputs": [
    {
     "data": {
      "text/html": [
       "<div>\n",
       "<table border=\"1\" class=\"dataframe\">\n",
       "  <thead>\n",
       "    <tr style=\"text-align: right;\">\n",
       "      <th></th>\n",
       "      <th>mean</th>\n",
       "      <th>std</th>\n",
       "    </tr>\n",
       "  </thead>\n",
       "  <tbody>\n",
       "    <tr>\n",
       "      <th>capital_share</th>\n",
       "      <td>0.427465</td>\n",
       "      <td>0.114987</td>\n",
       "    </tr>\n",
       "    <tr>\n",
       "      <th>labor_share</th>\n",
       "      <td>0.106717</td>\n",
       "      <td>0.045911</td>\n",
       "    </tr>\n",
       "    <tr>\n",
       "      <th>fuel_share</th>\n",
       "      <td>0.467243</td>\n",
       "      <td>0.123216</td>\n",
       "    </tr>\n",
       "  </tbody>\n",
       "</table>\n",
       "</div>"
      ],
      "text/plain": [
       "                   mean       std\n",
       "capital_share  0.427465  0.114987\n",
       "labor_share    0.106717  0.045911\n",
       "fuel_share     0.467243  0.123216"
      ]
     },
     "execution_count": 101,
     "metadata": {},
     "output_type": "execute_result"
    }
   ],
   "source": [
    "# Calculate mean and standard deviation of input shares\n",
    "shares = df[['capital_share','labor_share','fuel_share']]\n",
    "stats = pd.DataFrame()\n",
    "stats['mean'] = shares.mean() \n",
    "stats['std'] = shares.std()\n",
    "stats.head()"
   ]
  },
  {
   "cell_type": "markdown",
   "metadata": {},
   "source": [
    "These values are far different from the regression estimates. The average labor share is about 11%, far less than the coefficient from the regression, $\\frac{\\beta}{\\eta}$, which is 59%. The average capital share is about 43%, far greater than the coefficient from the regression, $\\frac{\\alpha}{\\eta}$, which is close to 0. The average fuel share, however, is about 47%, which is close to the value implied by the regression, $\\frac{\\gamma}{\\eta}$, which is 41%. The average shares approximately sum to 100%, as we expect.\n",
    "\n",
    "Nerlove makes some attempt to explain why the coefficient on capital from the regression is close to 0 — essentially, he attributes this to difficulties in measuring price and quantity of capital. That's probably what's happening here: the estimate for capital share in the regression is too low and is thus pushing the estimate for labor share too high. Still, the total returns to scale $\\eta$ — the value that Nerlove is ultimately interested in — should be accurate."
   ]
  },
  {
   "cell_type": "markdown",
   "metadata": {},
   "source": [
    "## Problem 3"
   ]
  },
  {
   "cell_type": "markdown",
   "metadata": {},
   "source": [
    "If we allow elasticities to vary across firms, we have\n",
    "\n",
    "$$C_i = \\eta_i \\left( \\frac{Y_i}{A_i} \\right)^{\\frac{1}{\\eta_i}} R_i^{\\frac{\\alpha_i}{\\eta_i}} W_i^{\\frac{\\beta_i}{\\eta_i}} P_i^{\\frac{\\gamma_i}{\\eta_i}} [\\alpha_i^{\\alpha_i} \\beta_i^{\\beta_i} \\gamma_i^{\\gamma_i}]^{- \\frac{1}{\\eta_i}}.$$\n",
    "\n",
    "Rearranging\n",
    "\n",
    "$$\\frac{C_i \\left[ \\alpha_i^{\\frac{\\alpha_i}{\\eta_i}} \\beta_i^{\\frac{\\beta_i}{\\gamma_i}} \\gamma_i^{\\frac{\\gamma_i}{\\eta_i}} \\right] }{R_i^{\\frac{\\alpha_i}{\\eta_i}} W_i^{\\frac{\\beta_i}{\\eta_i}} P_i^{\\frac{\\gamma_i}{\\eta_i}}} = \\eta_i \\left( \\frac{Y_i}{A_i} \\right)^{\\frac{1}{\\eta_i}}$$\n",
    "\n",
    "and since $\\eta_i = \\eta_i^{ \\frac{\\alpha_i}{\\eta_i} +\\frac{\\beta_i}{\\eta_i} + \\frac{\\gamma_i}{\\eta_i}}$\n",
    "\n",
    "$$\\frac{C_i \\left[ {\\frac{\\alpha_i}{\\eta_i}}^{\\frac{\\alpha_i}{\\eta_i}} \\right] \\left[ {\\frac{\\beta_i}{\\eta_i}}^{\\frac{\\beta_i}{\\eta_i}} \\right] \\left[ {\\frac{\\gamma_i}{\\eta_i}}^{\\frac{\\gamma_i}{\\eta_i}} \\right]   }{R_i^{\\frac{\\alpha_i}{\\eta_i}} W_i^{\\frac{\\beta_i}{\\eta_i}} P_i^{\\frac{\\gamma_i}{\\eta_i}}} =  \\left( \\frac{Y_i}{A_i} \\right)^{\\frac{1}{\\eta_i}}.$$\n",
    "\n",
    "If we call the left-hand side $NC_i$ and take logs, we find\n",
    "\n",
    "$$\\ln NC_i = \\frac{1}{\\eta_i} \\ln Y_i - \\frac{1}{\\eta_i} \\ln A_i .$$\n",
    "\n",
    "To make this estimable, we need to use *average* values in the coefficients and leave the variation in returns to scale and productivity to a mean-zero error term. Define $\\bar{\\eta^{-1}} = \\mathbb{E}\\left[ \\frac{1}{\\eta_i} \\right]$\n",
    "\n",
    "$$\\ln NC_i = ( \\bar{\\eta^{-1}} \\ln Y_i - \\bar{\\eta^{-1}} \\ln Y_i ) + \\eta_i^{-1} \\ln Y_i + \\left( \\mathbb{E} \\left[ \\frac{1}{\\eta_i} \\ln A_i \\right] - \\mathbb{E} \\left[ \\frac{1}{\\eta_i} \\ln A_i \\right] \\right) - \\frac{1}{\\eta_i} \\ln A_i .$$\n",
    "\n",
    "Then for $d = - \\mathbb{E} \\left[ \\frac{1}{\\eta_i} \\ln A_i \\right] $ and $U_i = (\\eta_i^{-1} - \\bar{\\eta^{-1}}) \\ln Y_i - \\left( \\frac{1}{\\eta_i} \\ln A_i - \\mathbb{E} \\left[ \\frac{1}{\\eta_i} \\ln A_i \\right] \\right)$\n",
    "\n",
    "$$\\ln NC_i = d + \\bar{\\eta^{-1}} \\ln Y_i + U_i .$$"
   ]
  },
  {
   "cell_type": "code",
   "execution_count": 102,
   "metadata": {
    "collapsed": false
   },
   "outputs": [],
   "source": [
    "# Construct normalized cost\n",
    "df['NC'] = np.log(df['cost'] \\\n",
    "    * df['capital_share'] ** df['capital_share'] \\\n",
    "    * df['labor_share'] ** df['labor_share'] \\\n",
    "    * df['fuel_share'] ** df['fuel_share']\n",
    "    / df['capital_price'] ** df['capital_share']\n",
    "    / df['wage'] ** df['labor_share']\n",
    "    / df['fuel_price'] ** df['fuel_share'])"
   ]
  },
  {
   "cell_type": "code",
   "execution_count": 103,
   "metadata": {
    "collapsed": false
   },
   "outputs": [
    {
     "data": {
      "text/html": [
       "<table class=\"simpletable\">\n",
       "<caption>OLS Regression Results</caption>\n",
       "<tr>\n",
       "  <th>Dep. Variable:</th>           <td>NC</td>        <th>  R-squared:         </th> <td>   0.908</td>\n",
       "</tr>\n",
       "<tr>\n",
       "  <th>Model:</th>                   <td>OLS</td>       <th>  Adj. R-squared:    </th> <td>   0.908</td>\n",
       "</tr>\n",
       "<tr>\n",
       "  <th>Method:</th>             <td>Least Squares</td>  <th>  F-statistic:       </th> <td>   1414.</td>\n",
       "</tr>\n",
       "<tr>\n",
       "  <th>Date:</th>             <td>Fri, 17 Feb 2017</td> <th>  Prob (F-statistic):</th> <td>5.01e-76</td>\n",
       "</tr>\n",
       "<tr>\n",
       "  <th>Time:</th>                 <td>11:23:35</td>     <th>  Log-Likelihood:    </th> <td> -80.484</td>\n",
       "</tr>\n",
       "<tr>\n",
       "  <th>No. Observations:</th>      <td>   145</td>      <th>  AIC:               </th> <td>   165.0</td>\n",
       "</tr>\n",
       "<tr>\n",
       "  <th>Df Residuals:</th>          <td>   143</td>      <th>  BIC:               </th> <td>   170.9</td>\n",
       "</tr>\n",
       "<tr>\n",
       "  <th>Df Model:</th>              <td>     1</td>      <th>                     </th>     <td> </td>   \n",
       "</tr>\n",
       "<tr>\n",
       "  <th>Covariance Type:</th>      <td>nonrobust</td>    <th>                     </th>     <td> </td>   \n",
       "</tr>\n",
       "</table>\n",
       "<table class=\"simpletable\">\n",
       "<tr>\n",
       "  <td></td>     <th>coef</th>     <th>std err</th>      <th>t</th>      <th>P>|t|</th> <th>[95.0% Conf. Int.]</th> \n",
       "</tr>\n",
       "<tr>\n",
       "  <th>d</th> <td>   -7.5428</td> <td>    0.126</td> <td>  -59.736</td> <td> 0.000</td> <td>   -7.792    -7.293</td>\n",
       "</tr>\n",
       "<tr>\n",
       "  <th>Y</th> <td>    0.6954</td> <td>    0.018</td> <td>   37.605</td> <td> 0.000</td> <td>    0.659     0.732</td>\n",
       "</tr>\n",
       "</table>\n",
       "<table class=\"simpletable\">\n",
       "<tr>\n",
       "  <th>Omnibus:</th>       <td>25.043</td> <th>  Durbin-Watson:     </th> <td>   1.067</td>\n",
       "</tr>\n",
       "<tr>\n",
       "  <th>Prob(Omnibus):</th> <td> 0.000</td> <th>  Jarque-Bera (JB):  </th> <td>  38.622</td>\n",
       "</tr>\n",
       "<tr>\n",
       "  <th>Skew:</th>          <td> 0.879</td> <th>  Prob(JB):          </th> <td>4.11e-09</td>\n",
       "</tr>\n",
       "<tr>\n",
       "  <th>Kurtosis:</th>      <td> 4.816</td> <th>  Cond. No.          </th> <td>    24.9</td>\n",
       "</tr>\n",
       "</table>"
      ],
      "text/plain": [
       "<class 'statsmodels.iolib.summary.Summary'>\n",
       "\"\"\"\n",
       "                            OLS Regression Results                            \n",
       "==============================================================================\n",
       "Dep. Variable:                     NC   R-squared:                       0.908\n",
       "Model:                            OLS   Adj. R-squared:                  0.908\n",
       "Method:                 Least Squares   F-statistic:                     1414.\n",
       "Date:                Fri, 17 Feb 2017   Prob (F-statistic):           5.01e-76\n",
       "Time:                        11:23:35   Log-Likelihood:                -80.484\n",
       "No. Observations:                 145   AIC:                             165.0\n",
       "Df Residuals:                     143   BIC:                             170.9\n",
       "Df Model:                           1                                         \n",
       "Covariance Type:            nonrobust                                         \n",
       "==============================================================================\n",
       "                 coef    std err          t      P>|t|      [95.0% Conf. Int.]\n",
       "------------------------------------------------------------------------------\n",
       "d             -7.5428      0.126    -59.736      0.000        -7.792    -7.293\n",
       "Y              0.6954      0.018     37.605      0.000         0.659     0.732\n",
       "==============================================================================\n",
       "Omnibus:                       25.043   Durbin-Watson:                   1.067\n",
       "Prob(Omnibus):                  0.000   Jarque-Bera (JB):               38.622\n",
       "Skew:                           0.879   Prob(JB):                     4.11e-09\n",
       "Kurtosis:                       4.816   Cond. No.                         24.9\n",
       "==============================================================================\n",
       "\n",
       "Warnings:\n",
       "[1] Standard Errors assume that the covariance matrix of the errors is correctly specified.\n",
       "\"\"\""
      ]
     },
     "execution_count": 103,
     "metadata": {},
     "output_type": "execute_result"
    }
   ],
   "source": [
    "# Compute regression of normalized costs on log output and a constant\n",
    "y2 = df['NC']\n",
    "X2 = pd.DataFrame()\n",
    "X2['d'] = df['const']\n",
    "X2['Y'] = np.log(df['output'])\n",
    "res2 = sm.OLS(y2, X2).fit()\n",
    "res2.summary()"
   ]
  },
  {
   "cell_type": "markdown",
   "metadata": {},
   "source": [
    "This regression makes sense only if the necessary and sufficient conditions for the projection are satisfied; namely that the error terms $U_i$ are mean zero and orthogonal to the independent variables, in this case, output.\n",
    "\n",
    "First, we check $\\mathbb{E}[U_i] = 0$\n",
    "\n",
    "$$\\mathbb{E}[U_i] = (\\mathbb{E}[\\eta_i^{-1} \\ln Y_i] - \\mathbb{E}[ \\bar{\\eta^{-1}} \\ln Y_i ] ) - \\left( \\mathbb{E} \\left[ \\frac{1}{\\eta_i} \\ln A_i \\right] - \\mathbb{E} \\left[ \\mathbb{E} \\left[ \\frac{1}{\\eta_i} \\ln A_i \\right] \\right] \\right) .$$\n",
    "\n",
    "This is zero only if $Cov(\\eta_i^{-1}, \\ln Y_i) = 0$. So, we must assume that the total returns to scale $\\eta_i$ do not vary with the firm output $Y_i$. This is not plausible in general; it might be true in the case of utilities, whose output levels are set exogenously.\n",
    "\n",
    "We also need $\\mathbb{E}[U_i Y_i] = 0$\n",
    "\n",
    "$$\\mathbb{E}[U_i Y_i] = (\\mathbb{E}[\\eta_i^{-1} (\\ln Y_i)^2] - \\mathbb{E}[ \\bar{\\eta^{-1}} (\\ln Y_i)^2 ] ) - \\left( \\mathbb{E} \\left[ \\frac{1}{\\eta_i} \\ln A_i \\ln Y_i \\right] - \\mathbb{E} \\left[ \\mathbb{E} \\left[ \\frac{1}{\\eta_i} \\ln A_i \\right] \\ln Y_i \\right] \\right)$$\n",
    "\n",
    "This is zero only if $Cov(\\eta_i^{-1}, (\\ln Y_i)^2) = 0$ and $Cov(\\eta_i^{-1} \\ln A_i, \\ln Y_i) = 0$; the new assumption here is that firm output is also unrelated to the firm efficiency $A_i$. Once again, this is probably plausible only if the output levels are truly set exogenously by a regulator.\n",
    "\n",
    "Under these assumptions, $\\mathbb{E}[U_i] = \\mathbb{E}[U_i Y_i] = 0$ and the regression should indeed recover $\\bar{\\eta^{-1}}$."
   ]
  },
  {
   "cell_type": "markdown",
   "metadata": {},
   "source": [
    "## Problem 4"
   ]
  },
  {
   "cell_type": "markdown",
   "metadata": {},
   "source": [
    "| Coefficient | Estimate | t |\n",
    "| ----------- |--------:| --:|\n",
    "| $d$ | -7.54  | 59.7  |\n",
    "| $\\bar{\\eta^{-1}}$ | 0.70 | 37.6 |"
   ]
  },
  {
   "cell_type": "code",
   "execution_count": 104,
   "metadata": {
    "collapsed": false
   },
   "outputs": [
    {
     "name": "stdout",
     "output_type": "stream",
     "text": [
      "eta: 1.438025\n"
     ]
    }
   ],
   "source": [
    "eta2 = 1/res2.params['Y']\n",
    "print('eta: %f' % eta2)"
   ]
  },
  {
   "cell_type": "markdown",
   "metadata": {},
   "source": [
    "The coefficient on $Y_i$ is highly significant, and we estimate $\\bar{\\eta} = 1.44$, which is close to our previous estimate, $\\eta = 1.39$. This is further evidence that utilities exhibit increasing returns to scale.\n",
    "\n",
    "The constant term $d$ is also highly significant and captures the average efficiency of firms. "
   ]
  },
  {
   "cell_type": "code",
   "execution_count": 105,
   "metadata": {
    "collapsed": false
   },
   "outputs": [],
   "source": [
    "from scipy import stats\n",
    "# Calculate critical value for t distribution at 90% confidence level\n",
    "alpha = 0.10\n",
    "t = stats.t.isf(alpha/2., res.df_resid)\n",
    "# Upper bound on fitted values at 90% confidence level\n",
    "upper = res.fittedvalues + t * np.sqrt(res.mse_resid)\n",
    "# Lower bound on fitted values at 90% confidence level\n",
    "lower = res.fittedvalues - t * np.sqrt(res.mse_resid)"
   ]
  },
  {
   "cell_type": "code",
   "execution_count": 106,
   "metadata": {
    "collapsed": false
   },
   "outputs": [
    {
     "data": {
      "image/png": "[encoded data removed]",
      "text/plain": [
       "<matplotlib.figure.Figure at 0x10af65828>"
      ]
     },
     "metadata": {},
     "output_type": "display_data"
    }
   ],
   "source": [
    "fig = plt.figure(figsize=(10,6))\n",
    "ax = fig.add_subplot(111)\n",
    "ax.set_xlim([0,10])\n",
    "ax.set_xlabel('$\\ln Y_i$')\n",
    "ax.set_ylabel('$\\ln NC_i$')\n",
    "# Plot scatter of normalized costs against log output\n",
    "ax.scatter(np.log(df['output']), df['NC'])\n",
    "# Plot least squares fit\n",
    "ax.plot(\n",
    "    np.log(df['output']),\n",
    "    res.fittedvalues,\n",
    "    'r-',\n",
    "    label='Least squares fit'\n",
    ")\n",
    "# Plot confidence band\n",
    "ax.fill_between(\n",
    "    np.log(df['output']),\n",
    "    lower,\n",
    "    upper,\n",
    "    facecolor='red',\n",
    "    alpha=0.1,\n",
    "    label='90% confidence band'\n",
    ")\n",
    "plt.legend(loc='lower right')\n",
    "plt.show()"
   ]
  },
  {
   "cell_type": "markdown",
   "metadata": {},
   "source": [
    "Visually, it appears as though the least squares fit captures much of the variation in $\\ln NC_i$."
   ]
  },
  {
   "cell_type": "markdown",
   "metadata": {},
   "source": [
    "## Problem 5"
   ]
  },
  {
   "cell_type": "markdown",
   "metadata": {},
   "source": [
    "If we assume $\\eta_i^{-1} \\approx \\bar{\\eta^{-1}}$ for all $i$, or that the returns to scale do not vary drastically across firms, then\n",
    "\n",
    "$$U_i = - \\left( \\bar{\\eta^{-1}} \\ln A_i - \\mathbb{E} \\left[ \\frac{1}{\\eta_i} \\ln A_i \\right] \\right) = - \\left( \\bar{\\eta^{-1}} \\ln A_i + d \\right)$$\n",
    "\n",
    "So we can use the residuals $\\hat{U_i}$ to estimate $A_i$\n",
    "\n",
    "$$A_i = e^{-\\bar{\\eta} (\\hat{U_i} + d)}$$"
   ]
  },
  {
   "cell_type": "code",
   "execution_count": 107,
   "metadata": {
    "collapsed": false
   },
   "outputs": [],
   "source": [
    "d = res2.params['d']\n",
    "# These are the LS residuals\n",
    "u = res2.resid\n",
    "# Calculate estimated productivity\n",
    "A = np.exp(-eta2 * (d + u))"
   ]
  },
  {
   "cell_type": "code",
   "execution_count": 108,
   "metadata": {
    "collapsed": false
   },
   "outputs": [
    {
     "data": {
      "image/png": "[encoded data removed]",
      "text/plain": [
       "<matplotlib.figure.Figure at 0x10af65710>"
      ]
     },
     "metadata": {},
     "output_type": "display_data"
    }
   ],
   "source": [
    "# Plot histogram\n",
    "fig = plt.figure(figsize=(10,6))\n",
    "ax = fig.add_subplot(111)\n",
    "ax.hist(A)\n",
    "ax.set_xlabel('$A_i$')\n",
    "ax.set_ylabel('Count')\n",
    "plt.show()"
   ]
  },
  {
   "cell_type": "markdown",
   "metadata": {},
   "source": [
    "The distribution of estimated productivity $A_i$ has a long right tail; that is, it seems as though there are a few firms that are more productive than the majority. This means the cost of producing a given quantity of output is markedly less for a few super-efficient firms. Perhaps these are newer utilities with more efficient power plants. This has a number of policy implications: one could be that the price of electricity (assuming that it is set exogenously by the government) should reflect the cost of production for these efficient firms, not the average firm. This would mean electricity woud be cheaper for everyone, and would perhaps encourage the less efficient firms to \"catch up\" through investment in new technology."
   ]
  }
 ],
 "metadata": {
  "kernelspec": {
   "display_name": "Python 3",
   "language": "python",
   "name": "python3"
  },
  "language_info": {
   "codemirror_mode": {
    "name": "ipython",
    "version": 3
   },
   "file_extension": ".py",
   "mimetype": "text/x-python",
   "name": "python",
   "nbconvert_exporter": "python",
   "pygments_lexer": "ipython3",
   "version": "3.4.3"
  }
 },
 "nbformat": 4,
 "nbformat_minor": 0
}
