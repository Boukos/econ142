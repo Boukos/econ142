{
 "cells": [
  {
   "cell_type": "markdown",
   "metadata": {},
   "source": [
    "# Econ C142 Problem Set 3\n",
    "# Sahil Chinoy"
   ]
  },
  {
   "cell_type": "code",
   "execution_count": 127,
   "metadata": {
    "collapsed": true
   },
   "outputs": [],
   "source": [
    "%matplotlib inline\n",
    "import math\n",
    "import scipy\n",
    "import numpy as np\n",
    "import pandas as pd\n",
    "import statsmodels.api as sm\n",
    "import matplotlib.pyplot as plt"
   ]
  },
  {
   "cell_type": "markdown",
   "metadata": {},
   "source": [
    "## Problem 1"
   ]
  },
  {
   "cell_type": "code",
   "execution_count": 128,
   "metadata": {
    "collapsed": true
   },
   "outputs": [],
   "source": [
    "PersonYear = pd.read_table('sat_marriage.out', index_col=0)"
   ]
  },
  {
   "cell_type": "code",
   "execution_count": 129,
   "metadata": {},
   "outputs": [
    {
     "data": {
      "text/html": [
       "<div>\n",
       "<table border=\"1\" class=\"dataframe\">\n",
       "  <thead>\n",
       "    <tr style=\"text-align: right;\">\n",
       "      <th></th>\n",
       "      <th>PID</th>\n",
       "      <th>AGE</th>\n",
       "      <th>Y</th>\n",
       "      <th>CENSORED</th>\n",
       "      <th>SAT</th>\n",
       "      <th>VILLAGE_PAIR</th>\n",
       "    </tr>\n",
       "  </thead>\n",
       "  <tbody>\n",
       "    <tr>\n",
       "      <th>0</th>\n",
       "      <td>1001</td>\n",
       "      <td>14</td>\n",
       "      <td>0</td>\n",
       "      <td>1</td>\n",
       "      <td>0</td>\n",
       "      <td>7</td>\n",
       "    </tr>\n",
       "    <tr>\n",
       "      <th>1</th>\n",
       "      <td>1001</td>\n",
       "      <td>15</td>\n",
       "      <td>0</td>\n",
       "      <td>1</td>\n",
       "      <td>0</td>\n",
       "      <td>7</td>\n",
       "    </tr>\n",
       "    <tr>\n",
       "      <th>2</th>\n",
       "      <td>1001</td>\n",
       "      <td>16</td>\n",
       "      <td>0</td>\n",
       "      <td>1</td>\n",
       "      <td>0</td>\n",
       "      <td>7</td>\n",
       "    </tr>\n",
       "    <tr>\n",
       "      <th>3</th>\n",
       "      <td>1001</td>\n",
       "      <td>17</td>\n",
       "      <td>0</td>\n",
       "      <td>1</td>\n",
       "      <td>0</td>\n",
       "      <td>7</td>\n",
       "    </tr>\n",
       "    <tr>\n",
       "      <th>4</th>\n",
       "      <td>1001</td>\n",
       "      <td>18</td>\n",
       "      <td>0</td>\n",
       "      <td>1</td>\n",
       "      <td>0</td>\n",
       "      <td>7</td>\n",
       "    </tr>\n",
       "    <tr>\n",
       "      <th>5</th>\n",
       "      <td>1001</td>\n",
       "      <td>19</td>\n",
       "      <td>0</td>\n",
       "      <td>1</td>\n",
       "      <td>0</td>\n",
       "      <td>7</td>\n",
       "    </tr>\n",
       "    <tr>\n",
       "      <th>6</th>\n",
       "      <td>1001</td>\n",
       "      <td>20</td>\n",
       "      <td>0</td>\n",
       "      <td>1</td>\n",
       "      <td>0</td>\n",
       "      <td>7</td>\n",
       "    </tr>\n",
       "    <tr>\n",
       "      <th>7</th>\n",
       "      <td>1001</td>\n",
       "      <td>21</td>\n",
       "      <td>0</td>\n",
       "      <td>1</td>\n",
       "      <td>0</td>\n",
       "      <td>7</td>\n",
       "    </tr>\n",
       "    <tr>\n",
       "      <th>8</th>\n",
       "      <td>1006</td>\n",
       "      <td>14</td>\n",
       "      <td>0</td>\n",
       "      <td>1</td>\n",
       "      <td>0</td>\n",
       "      <td>7</td>\n",
       "    </tr>\n",
       "    <tr>\n",
       "      <th>9</th>\n",
       "      <td>1006</td>\n",
       "      <td>15</td>\n",
       "      <td>0</td>\n",
       "      <td>1</td>\n",
       "      <td>0</td>\n",
       "      <td>7</td>\n",
       "    </tr>\n",
       "    <tr>\n",
       "      <th>10</th>\n",
       "      <td>1006</td>\n",
       "      <td>16</td>\n",
       "      <td>0</td>\n",
       "      <td>1</td>\n",
       "      <td>0</td>\n",
       "      <td>7</td>\n",
       "    </tr>\n",
       "    <tr>\n",
       "      <th>11</th>\n",
       "      <td>1006</td>\n",
       "      <td>17</td>\n",
       "      <td>0</td>\n",
       "      <td>1</td>\n",
       "      <td>0</td>\n",
       "      <td>7</td>\n",
       "    </tr>\n",
       "    <tr>\n",
       "      <th>12</th>\n",
       "      <td>1006</td>\n",
       "      <td>18</td>\n",
       "      <td>0</td>\n",
       "      <td>1</td>\n",
       "      <td>0</td>\n",
       "      <td>7</td>\n",
       "    </tr>\n",
       "    <tr>\n",
       "      <th>13</th>\n",
       "      <td>1006</td>\n",
       "      <td>19</td>\n",
       "      <td>0</td>\n",
       "      <td>1</td>\n",
       "      <td>0</td>\n",
       "      <td>7</td>\n",
       "    </tr>\n",
       "    <tr>\n",
       "      <th>14</th>\n",
       "      <td>1006</td>\n",
       "      <td>20</td>\n",
       "      <td>0</td>\n",
       "      <td>1</td>\n",
       "      <td>0</td>\n",
       "      <td>7</td>\n",
       "    </tr>\n",
       "    <tr>\n",
       "      <th>15</th>\n",
       "      <td>1006</td>\n",
       "      <td>21</td>\n",
       "      <td>0</td>\n",
       "      <td>1</td>\n",
       "      <td>0</td>\n",
       "      <td>7</td>\n",
       "    </tr>\n",
       "    <tr>\n",
       "      <th>16</th>\n",
       "      <td>1010</td>\n",
       "      <td>13</td>\n",
       "      <td>0</td>\n",
       "      <td>1</td>\n",
       "      <td>0</td>\n",
       "      <td>7</td>\n",
       "    </tr>\n",
       "    <tr>\n",
       "      <th>17</th>\n",
       "      <td>1010</td>\n",
       "      <td>14</td>\n",
       "      <td>0</td>\n",
       "      <td>1</td>\n",
       "      <td>0</td>\n",
       "      <td>7</td>\n",
       "    </tr>\n",
       "    <tr>\n",
       "      <th>18</th>\n",
       "      <td>1010</td>\n",
       "      <td>15</td>\n",
       "      <td>0</td>\n",
       "      <td>1</td>\n",
       "      <td>0</td>\n",
       "      <td>7</td>\n",
       "    </tr>\n",
       "    <tr>\n",
       "      <th>19</th>\n",
       "      <td>1010</td>\n",
       "      <td>16</td>\n",
       "      <td>0</td>\n",
       "      <td>1</td>\n",
       "      <td>0</td>\n",
       "      <td>7</td>\n",
       "    </tr>\n",
       "    <tr>\n",
       "      <th>20</th>\n",
       "      <td>1010</td>\n",
       "      <td>17</td>\n",
       "      <td>0</td>\n",
       "      <td>1</td>\n",
       "      <td>0</td>\n",
       "      <td>7</td>\n",
       "    </tr>\n",
       "    <tr>\n",
       "      <th>21</th>\n",
       "      <td>1010</td>\n",
       "      <td>18</td>\n",
       "      <td>0</td>\n",
       "      <td>1</td>\n",
       "      <td>0</td>\n",
       "      <td>7</td>\n",
       "    </tr>\n",
       "    <tr>\n",
       "      <th>22</th>\n",
       "      <td>1010</td>\n",
       "      <td>19</td>\n",
       "      <td>0</td>\n",
       "      <td>1</td>\n",
       "      <td>0</td>\n",
       "      <td>7</td>\n",
       "    </tr>\n",
       "    <tr>\n",
       "      <th>23</th>\n",
       "      <td>1010</td>\n",
       "      <td>20</td>\n",
       "      <td>0</td>\n",
       "      <td>1</td>\n",
       "      <td>0</td>\n",
       "      <td>7</td>\n",
       "    </tr>\n",
       "    <tr>\n",
       "      <th>24</th>\n",
       "      <td>1011</td>\n",
       "      <td>13</td>\n",
       "      <td>0</td>\n",
       "      <td>0</td>\n",
       "      <td>0</td>\n",
       "      <td>7</td>\n",
       "    </tr>\n",
       "    <tr>\n",
       "      <th>25</th>\n",
       "      <td>1011</td>\n",
       "      <td>14</td>\n",
       "      <td>0</td>\n",
       "      <td>0</td>\n",
       "      <td>0</td>\n",
       "      <td>7</td>\n",
       "    </tr>\n",
       "    <tr>\n",
       "      <th>26</th>\n",
       "      <td>1011</td>\n",
       "      <td>15</td>\n",
       "      <td>0</td>\n",
       "      <td>0</td>\n",
       "      <td>0</td>\n",
       "      <td>7</td>\n",
       "    </tr>\n",
       "    <tr>\n",
       "      <th>27</th>\n",
       "      <td>1011</td>\n",
       "      <td>16</td>\n",
       "      <td>0</td>\n",
       "      <td>0</td>\n",
       "      <td>0</td>\n",
       "      <td>7</td>\n",
       "    </tr>\n",
       "    <tr>\n",
       "      <th>28</th>\n",
       "      <td>1011</td>\n",
       "      <td>17</td>\n",
       "      <td>0</td>\n",
       "      <td>0</td>\n",
       "      <td>0</td>\n",
       "      <td>7</td>\n",
       "    </tr>\n",
       "    <tr>\n",
       "      <th>29</th>\n",
       "      <td>1011</td>\n",
       "      <td>18</td>\n",
       "      <td>1</td>\n",
       "      <td>0</td>\n",
       "      <td>0</td>\n",
       "      <td>7</td>\n",
       "    </tr>\n",
       "  </tbody>\n",
       "</table>\n",
       "</div>"
      ],
      "text/plain": [
       "     PID  AGE  Y  CENSORED  SAT  VILLAGE_PAIR\n",
       "0   1001   14  0         1    0             7\n",
       "1   1001   15  0         1    0             7\n",
       "2   1001   16  0         1    0             7\n",
       "3   1001   17  0         1    0             7\n",
       "4   1001   18  0         1    0             7\n",
       "5   1001   19  0         1    0             7\n",
       "6   1001   20  0         1    0             7\n",
       "7   1001   21  0         1    0             7\n",
       "8   1006   14  0         1    0             7\n",
       "9   1006   15  0         1    0             7\n",
       "10  1006   16  0         1    0             7\n",
       "11  1006   17  0         1    0             7\n",
       "12  1006   18  0         1    0             7\n",
       "13  1006   19  0         1    0             7\n",
       "14  1006   20  0         1    0             7\n",
       "15  1006   21  0         1    0             7\n",
       "16  1010   13  0         1    0             7\n",
       "17  1010   14  0         1    0             7\n",
       "18  1010   15  0         1    0             7\n",
       "19  1010   16  0         1    0             7\n",
       "20  1010   17  0         1    0             7\n",
       "21  1010   18  0         1    0             7\n",
       "22  1010   19  0         1    0             7\n",
       "23  1010   20  0         1    0             7\n",
       "24  1011   13  0         0    0             7\n",
       "25  1011   14  0         0    0             7\n",
       "26  1011   15  0         0    0             7\n",
       "27  1011   16  0         0    0             7\n",
       "28  1011   17  0         0    0             7\n",
       "29  1011   18  1         0    0             7"
      ]
     },
     "execution_count": 129,
     "metadata": {},
     "output_type": "execute_result"
    }
   ],
   "source": [
    "PersonYear.head(n=30)"
   ]
  },
  {
   "cell_type": "markdown",
   "metadata": {},
   "source": [
    "The first woman, who we begin following at age 14, reaches age 21 without being married, at which point she is lost to follow-up (censored). The second woman, who we begin following at age 14, also reaches age 21 without being maried, at which point she is censored. The third woman, who we begin following at age 14, reaches age 20 without being married, at which point she is censored. The fourth woman, who we begin following at age 13, is married at age 18. None of these women live in an SAT village."
   ]
  },
  {
   "cell_type": "markdown",
   "metadata": {},
   "source": [
    "## Problem 2"
   ]
  },
  {
   "cell_type": "code",
   "execution_count": 130,
   "metadata": {
    "collapsed": true
   },
   "outputs": [],
   "source": [
    "# Create age dummies\n",
    "PersonYear = pd.concat(\n",
    "    [\n",
    "        PersonYear,\n",
    "        pd.get_dummies(PersonYear['AGE'], prefix = 'AGE')\n",
    "    ],\n",
    "    axis=1)"
   ]
  },
  {
   "cell_type": "code",
   "execution_count": 131,
   "metadata": {
    "collapsed": true
   },
   "outputs": [],
   "source": [
    "def is_age_23(row):\n",
    "    \"\"\"\n",
    "    Returns 1 if the age of this observation is weakly\n",
    "    greater than 23. Otherwise returns 0.\n",
    "    \"\"\"\n",
    "    if row['AGE'] >= 23:\n",
    "        return 1\n",
    "    else:\n",
    "        return 0\n",
    "\n",
    "# Create dummy for age >= 23\n",
    "PersonYear['AGE_23+'] = PersonYear.apply(is_age_23, axis=1)"
   ]
  },
  {
   "cell_type": "markdown",
   "metadata": {},
   "source": [
    "## Problem 3"
   ]
  },
  {
   "cell_type": "markdown",
   "metadata": {},
   "source": [
    "To avoid multicollinearity, we estimate the logit model without a constant term. Exactly one of the age dummies will be 1 for each observation, therefore the set of all age dummies always sums to 1. This means we can always predict the constant term by adding all the age dummies, which is the definition of multicollinearity."
   ]
  },
  {
   "cell_type": "code",
   "execution_count": 132,
   "metadata": {},
   "outputs": [
    {
     "name": "stdout",
     "output_type": "stream",
     "text": [
      "Optimization terminated successfully.\n",
      "         Current function value: 0.237944\n",
      "         Iterations 9\n"
     ]
    },
    {
     "data": {
      "text/html": [
       "<table class=\"simpletable\">\n",
       "<caption>Logit Regression Results</caption>\n",
       "<tr>\n",
       "  <th>Dep. Variable:</th>         <td>Y</td>        <th>  No. Observations:  </th>  <td>  4748</td>  \n",
       "</tr>\n",
       "<tr>\n",
       "  <th>Model:</th>               <td>Logit</td>      <th>  Df Residuals:      </th>  <td>  4736</td>  \n",
       "</tr>\n",
       "<tr>\n",
       "  <th>Method:</th>               <td>MLE</td>       <th>  Df Model:          </th>  <td>    11</td>  \n",
       "</tr>\n",
       "<tr>\n",
       "  <th>Date:</th>          <td>Thu, 20 Apr 2017</td> <th>  Pseudo R-squ.:     </th>  <td>0.05505</td> \n",
       "</tr>\n",
       "<tr>\n",
       "  <th>Time:</th>              <td>11:23:57</td>     <th>  Log-Likelihood:    </th> <td> -1129.8</td> \n",
       "</tr>\n",
       "<tr>\n",
       "  <th>converged:</th>           <td>True</td>       <th>  LL-Null:           </th> <td> -1195.6</td> \n",
       "</tr>\n",
       "<tr>\n",
       "  <th> </th>                      <td> </td>        <th>  LLR p-value:       </th> <td>8.180e-23</td>\n",
       "</tr>\n",
       "</table>\n",
       "<table class=\"simpletable\">\n",
       "<tr>\n",
       "     <td></td>        <th>coef</th>     <th>std err</th>      <th>z</th>      <th>P>|z|</th> <th>[95.0% Conf. Int.]</th> \n",
       "</tr>\n",
       "<tr>\n",
       "  <th>AGE_12</th>  <td>   -5.1874</td> <td>    0.709</td> <td>   -7.316</td> <td> 0.000</td> <td>   -6.577    -3.798</td>\n",
       "</tr>\n",
       "<tr>\n",
       "  <th>AGE_13</th>  <td>   -4.2140</td> <td>    0.356</td> <td>  -11.832</td> <td> 0.000</td> <td>   -4.912    -3.516</td>\n",
       "</tr>\n",
       "<tr>\n",
       "  <th>AGE_14</th>  <td>   -3.4575</td> <td>    0.233</td> <td>  -14.839</td> <td> 0.000</td> <td>   -3.914    -3.001</td>\n",
       "</tr>\n",
       "<tr>\n",
       "  <th>AGE_15</th>  <td>   -2.6391</td> <td>    0.158</td> <td>  -16.719</td> <td> 0.000</td> <td>   -2.948    -2.330</td>\n",
       "</tr>\n",
       "<tr>\n",
       "  <th>AGE_16</th>  <td>   -2.3425</td> <td>    0.142</td> <td>  -16.442</td> <td> 0.000</td> <td>   -2.622    -2.063</td>\n",
       "</tr>\n",
       "<tr>\n",
       "  <th>AGE_17</th>  <td>   -2.2929</td> <td>    0.146</td> <td>  -15.758</td> <td> 0.000</td> <td>   -2.578    -2.008</td>\n",
       "</tr>\n",
       "<tr>\n",
       "  <th>AGE_18</th>  <td>   -2.1422</td> <td>    0.144</td> <td>  -14.892</td> <td> 0.000</td> <td>   -2.424    -1.860</td>\n",
       "</tr>\n",
       "<tr>\n",
       "  <th>AGE_19</th>  <td>   -1.9694</td> <td>    0.145</td> <td>  -13.557</td> <td> 0.000</td> <td>   -2.254    -1.685</td>\n",
       "</tr>\n",
       "<tr>\n",
       "  <th>AGE_20</th>  <td>   -2.3979</td> <td>    0.234</td> <td>  -10.267</td> <td> 0.000</td> <td>   -2.856    -1.940</td>\n",
       "</tr>\n",
       "<tr>\n",
       "  <th>AGE_21</th>  <td>   -1.8539</td> <td>    0.298</td> <td>   -6.215</td> <td> 0.000</td> <td>   -2.439    -1.269</td>\n",
       "</tr>\n",
       "<tr>\n",
       "  <th>AGE_22</th>  <td>   -2.0794</td> <td>    0.474</td> <td>   -4.384</td> <td> 0.000</td> <td>   -3.009    -1.150</td>\n",
       "</tr>\n",
       "<tr>\n",
       "  <th>AGE_23+</th> <td>   -2.2618</td> <td>    0.470</td> <td>   -4.813</td> <td> 0.000</td> <td>   -3.183    -1.341</td>\n",
       "</tr>\n",
       "</table>"
      ],
      "text/plain": [
       "<class 'statsmodels.iolib.summary.Summary'>\n",
       "\"\"\"\n",
       "                           Logit Regression Results                           \n",
       "==============================================================================\n",
       "Dep. Variable:                      Y   No. Observations:                 4748\n",
       "Model:                          Logit   Df Residuals:                     4736\n",
       "Method:                           MLE   Df Model:                           11\n",
       "Date:                Thu, 20 Apr 2017   Pseudo R-squ.:                 0.05505\n",
       "Time:                        11:23:57   Log-Likelihood:                -1129.8\n",
       "converged:                       True   LL-Null:                       -1195.6\n",
       "                                        LLR p-value:                 8.180e-23\n",
       "==============================================================================\n",
       "                 coef    std err          z      P>|z|      [95.0% Conf. Int.]\n",
       "------------------------------------------------------------------------------\n",
       "AGE_12        -5.1874      0.709     -7.316      0.000        -6.577    -3.798\n",
       "AGE_13        -4.2140      0.356    -11.832      0.000        -4.912    -3.516\n",
       "AGE_14        -3.4575      0.233    -14.839      0.000        -3.914    -3.001\n",
       "AGE_15        -2.6391      0.158    -16.719      0.000        -2.948    -2.330\n",
       "AGE_16        -2.3425      0.142    -16.442      0.000        -2.622    -2.063\n",
       "AGE_17        -2.2929      0.146    -15.758      0.000        -2.578    -2.008\n",
       "AGE_18        -2.1422      0.144    -14.892      0.000        -2.424    -1.860\n",
       "AGE_19        -1.9694      0.145    -13.557      0.000        -2.254    -1.685\n",
       "AGE_20        -2.3979      0.234    -10.267      0.000        -2.856    -1.940\n",
       "AGE_21        -1.8539      0.298     -6.215      0.000        -2.439    -1.269\n",
       "AGE_22        -2.0794      0.474     -4.384      0.000        -3.009    -1.150\n",
       "AGE_23+       -2.2618      0.470     -4.813      0.000        -3.183    -1.341\n",
       "==============================================================================\n",
       "\"\"\""
      ]
     },
     "execution_count": 132,
     "metadata": {},
     "output_type": "execute_result"
    }
   ],
   "source": [
    "# Independent variables: age dummies from 12 to 22 and 23+\n",
    "cols = ['AGE_{}'.format(age) for age in range(12, 23)]\n",
    "cols.append('AGE_23+')\n",
    "X = PersonYear[cols]\n",
    "# Fit logit model of marriage indicator on independent variables\n",
    "mod = sm.Logit(PersonYear['Y'], X)\n",
    "res = mod.fit()\n",
    "res.summary()"
   ]
  },
  {
   "cell_type": "code",
   "execution_count": 135,
   "metadata": {
    "collapsed": true
   },
   "outputs": [],
   "source": [
    "def logit_to_hazard(logit):\n",
    "    \"\"\"\n",
    "    Takes a coefficient from the logit model and\n",
    "    returns the hazard estimate.\n",
    "    \"\"\"\n",
    "    return math.exp(logit)/(1 + math.exp(logit))\n",
    "\n",
    "# We don't want to compute the hazard for 23+\n",
    "hazard = res.params[:-1].apply(logit_to_hazard)"
   ]
  },
  {
   "cell_type": "code",
   "execution_count": 136,
   "metadata": {},
   "outputs": [
    {
     "data": {
      "image/png": "[encoded data removed]",
      "text/plain": [
       "<matplotlib.figure.Figure at 0x10b9637b8>"
      ]
     },
     "metadata": {},
     "output_type": "display_data"
    }
   ],
   "source": [
    "# Plot the baseline hazard\n",
    "fig = plt.figure(figsize=(10,6))\n",
    "ax = fig.add_subplot(111)\n",
    "ax.set_xlabel('Age')\n",
    "ax.set_ylabel('Hazard')\n",
    "ax.plot(range(12,23), hazard)\n",
    "plt.grid(True)\n",
    "plt.show()"
   ]
  },
  {
   "cell_type": "markdown",
   "metadata": {},
   "source": [
    "## Problem 4"
   ]
  },
  {
   "cell_type": "code",
   "execution_count": 138,
   "metadata": {
    "collapsed": true
   },
   "outputs": [],
   "source": [
    "from functools import reduce\n",
    "\n",
    "def kaplan_meier(hazards):\n",
    "    \"\"\"\n",
    "    Takes a series of hazard estimates\n",
    "    and returns the Kaplan-Meier survival\n",
    "    function estimates.\n",
    "    \"\"\"\n",
    "    km = []\n",
    "    for i in range(len(hazards)):\n",
    "        estimate = reduce(\n",
    "            lambda x,y: x*y,\n",
    "            [(1 - hazard) for hazard in hazards[:i+1]]\n",
    "        )\n",
    "        km.append(estimate)\n",
    "    return km\n",
    "\n",
    "# Estimate of survival function\n",
    "survival = kaplan_meier(hazard)"
   ]
  },
  {
   "cell_type": "code",
   "execution_count": 139,
   "metadata": {},
   "outputs": [
    {
     "data": {
      "image/png": "[encoded data removed]",
      "text/plain": [
       "<matplotlib.figure.Figure at 0x10ab92710>"
      ]
     },
     "metadata": {},
     "output_type": "display_data"
    }
   ],
   "source": [
    "# Plot the Kaplan-Meier survival function estimate\n",
    "fig = plt.figure(figsize=(10,6))\n",
    "ax = fig.add_subplot(111)\n",
    "ax.set_xlabel('Age')\n",
    "ax.set_ylabel('Kaplan-Meier survival function')\n",
    "ax.plot(range(12,23), survival)\n",
    "plt.grid(True)\n",
    "plt.show()"
   ]
  },
  {
   "cell_type": "markdown",
   "metadata": {},
   "source": [
    "## Problem 5"
   ]
  },
  {
   "cell_type": "code",
   "execution_count": 140,
   "metadata": {
    "collapsed": true
   },
   "outputs": [],
   "source": [
    "\"\"\"\n",
    "Create list of (N,D) tuples, one for each age 12 to 22\n",
    "where N is the number of unmarried women who have not been censored (yet)\n",
    "and D is the number of women who get married at this age.\n",
    "\"\"\"\n",
    "\n",
    "_data = []\n",
    "for age in range(12, 23):\n",
    "    N  = len(PersonYear[PersonYear['AGE'] == age])\n",
    "    D = len(PersonYear[(PersonYear['AGE'] == age) & (PersonYear['Y'] == 1)])\n",
    "    _data.append((N,D))\n",
    "\n",
    "# Compute the variance estimator of the Kaplan-Meier survival function\n",
    "var = []\n",
    "for i in range(len(data)):\n",
    "    var.append(survival[i]**2 * sum([D/(N*(N-D)) for N,D in data[:i+1]]))\n",
    "\n",
    "# z-value for a 95% confidence interval\n",
    "z = scipy.stats.norm.ppf(0.975)\n",
    "# CI lower and upper bounds\n",
    "lower = survival - z*np.sqrt(var)\n",
    "upper = survival + z*np.sqrt(var)"
   ]
  },
  {
   "cell_type": "code",
   "execution_count": 142,
   "metadata": {},
   "outputs": [
    {
     "data": {
      "image/png": "[encoded data removed]",
      "text/plain": [
       "<matplotlib.figure.Figure at 0x10b11a3c8>"
      ]
     },
     "metadata": {},
     "output_type": "display_data"
    }
   ],
   "source": [
    "fig = plt.figure(figsize=(10,6))\n",
    "ax = fig.add_subplot(111)\n",
    "ax.set_xlabel('Age')\n",
    "ax.set_ylabel('Kaplan-Meier survival function')\n",
    "ax.plot(range(12,23), kaplan_meier(hazard), label='Point estimate')\n",
    "ax.fill_between(\n",
    "    range(12,23),\n",
    "    lower,\n",
    "    upper,\n",
    "    facecolor='red',\n",
    "    alpha=0.1,\n",
    "    label='95% pointwise confidence band'\n",
    ")\n",
    "plt.legend(loc='upper right')\n",
    "plt.grid(True)\n",
    "plt.show()"
   ]
  },
  {
   "cell_type": "markdown",
   "metadata": {},
   "source": [
    "## Problem 6"
   ]
  },
  {
   "cell_type": "code",
   "execution_count": 143,
   "metadata": {},
   "outputs": [
    {
     "name": "stdout",
     "output_type": "stream",
     "text": [
      "Optimization terminated successfully.\n",
      "         Current function value: 0.243450\n",
      "         Iterations 7\n"
     ]
    },
    {
     "data": {
      "text/html": [
       "<table class=\"simpletable\">\n",
       "<caption>Logit Regression Results</caption>\n",
       "<tr>\n",
       "  <th>Dep. Variable:</th>         <td>Y</td>        <th>  No. Observations:  </th>  <td>  4748</td>  \n",
       "</tr>\n",
       "<tr>\n",
       "  <th>Model:</th>               <td>Logit</td>      <th>  Df Residuals:      </th>  <td>  4746</td>  \n",
       "</tr>\n",
       "<tr>\n",
       "  <th>Method:</th>               <td>MLE</td>       <th>  Df Model:          </th>  <td>     1</td>  \n",
       "</tr>\n",
       "<tr>\n",
       "  <th>Date:</th>          <td>Thu, 20 Apr 2017</td> <th>  Pseudo R-squ.:     </th>  <td>0.03318</td> \n",
       "</tr>\n",
       "<tr>\n",
       "  <th>Time:</th>              <td>11:29:34</td>     <th>  Log-Likelihood:    </th> <td> -1155.9</td> \n",
       "</tr>\n",
       "<tr>\n",
       "  <th>converged:</th>           <td>True</td>       <th>  LL-Null:           </th> <td> -1195.6</td> \n",
       "</tr>\n",
       "<tr>\n",
       "  <th> </th>                      <td> </td>        <th>  LLR p-value:       </th> <td>5.250e-19</td>\n",
       "</tr>\n",
       "</table>\n",
       "<table class=\"simpletable\">\n",
       "<tr>\n",
       "    <td></td>       <th>coef</th>     <th>std err</th>      <th>z</th>      <th>P>|z|</th> <th>[95.0% Conf. Int.]</th> \n",
       "</tr>\n",
       "<tr>\n",
       "  <th>const</th> <td>   -5.6935</td> <td>    0.361</td> <td>  -15.787</td> <td> 0.000</td> <td>   -6.400    -4.987</td>\n",
       "</tr>\n",
       "<tr>\n",
       "  <th>AGE</th>   <td>    0.1867</td> <td>    0.021</td> <td>    8.992</td> <td> 0.000</td> <td>    0.146     0.227</td>\n",
       "</tr>\n",
       "</table>"
      ],
      "text/plain": [
       "<class 'statsmodels.iolib.summary.Summary'>\n",
       "\"\"\"\n",
       "                           Logit Regression Results                           \n",
       "==============================================================================\n",
       "Dep. Variable:                      Y   No. Observations:                 4748\n",
       "Model:                          Logit   Df Residuals:                     4746\n",
       "Method:                           MLE   Df Model:                            1\n",
       "Date:                Thu, 20 Apr 2017   Pseudo R-squ.:                 0.03318\n",
       "Time:                        11:29:34   Log-Likelihood:                -1155.9\n",
       "converged:                       True   LL-Null:                       -1195.6\n",
       "                                        LLR p-value:                 5.250e-19\n",
       "==============================================================================\n",
       "                 coef    std err          z      P>|z|      [95.0% Conf. Int.]\n",
       "------------------------------------------------------------------------------\n",
       "const         -5.6935      0.361    -15.787      0.000        -6.400    -4.987\n",
       "AGE            0.1867      0.021      8.992      0.000         0.146     0.227\n",
       "==============================================================================\n",
       "\"\"\""
      ]
     },
     "execution_count": 143,
     "metadata": {},
     "output_type": "execute_result"
    }
   ],
   "source": [
    "from statsmodels.tools.tools import add_constant\n",
    "\n",
    "X = PersonYear['AGE']\n",
    "X = add_constant(X)\n",
    "mod = sm.Logit(PersonYear['Y'], X)\n",
    "res = mod.fit()\n",
    "res.summary()"
   ]
  },
  {
   "cell_type": "code",
   "execution_count": 117,
   "metadata": {
    "collapsed": true
   },
   "outputs": [],
   "source": [
    "restricted_logit = [res.params['const'] + res.params['AGE']*age for age in range(12,23)]\n",
    "restricted_hazard = [logit_to_hazard(l) for l in restricted_logit]"
   ]
  },
  {
   "cell_type": "code",
   "execution_count": 147,
   "metadata": {},
   "outputs": [
    {
     "data": {
      "image/png": "[encoded data removed]",
      "text/plain": [
       "<matplotlib.figure.Figure at 0x10afc0f28>"
      ]
     },
     "metadata": {},
     "output_type": "display_data"
    }
   ],
   "source": [
    "fig = plt.figure(figsize=(10,6))\n",
    "ax = fig.add_subplot(111)\n",
    "ax.set_xlabel('Age')\n",
    "ax.set_ylabel('Hazard')\n",
    "ax.plot(range(12,23), hazard, label='Unrestricted')\n",
    "ax.plot(range(12,23), restricted_hazard, linestyle='dashed', label='Restricted')\n",
    "ax.legend(loc='lower right')\n",
    "plt.grid(True)\n",
    "plt.show()"
   ]
  },
  {
   "cell_type": "markdown",
   "metadata": {},
   "source": [
    "When we impose the restriction that the logit of the hazard is linear in age, we get the smooth dashed curve. This approximates the unrestricted model reasonably well for ages around 14 to 19, but we see that the restricted model predicts that the hazard will continue to grow for ages greater than 20, whereas the unrestricted model shows that the hazard might level off around age 20 and eventually decline, which matches our intuition that the likelihood of being married at age 30 should not be greater than the likelihood of being married at age 20, especially in this rural context. The restricted model also seems to predict a higher hazard rate for young girls ages 12 to 14."
   ]
  },
  {
   "cell_type": "markdown",
   "metadata": {
    "collapsed": true
   },
   "source": [
    "## Problem 7"
   ]
  },
  {
   "cell_type": "code",
   "execution_count": 146,
   "metadata": {},
   "outputs": [
    {
     "name": "stdout",
     "output_type": "stream",
     "text": [
      "Optimization terminated successfully.\n",
      "         Current function value: 0.237943\n",
      "         Iterations 9\n"
     ]
    },
    {
     "data": {
      "text/html": [
       "<table class=\"simpletable\">\n",
       "<caption>Logit Regression Results</caption>\n",
       "<tr>\n",
       "  <th>Dep. Variable:</th>         <td>Y</td>        <th>  No. Observations:  </th>  <td>  4748</td>  \n",
       "</tr>\n",
       "<tr>\n",
       "  <th>Model:</th>               <td>Logit</td>      <th>  Df Residuals:      </th>  <td>  4735</td>  \n",
       "</tr>\n",
       "<tr>\n",
       "  <th>Method:</th>               <td>MLE</td>       <th>  Df Model:          </th>  <td>    12</td>  \n",
       "</tr>\n",
       "<tr>\n",
       "  <th>Date:</th>          <td>Thu, 20 Apr 2017</td> <th>  Pseudo R-squ.:     </th>  <td>0.05505</td> \n",
       "</tr>\n",
       "<tr>\n",
       "  <th>Time:</th>              <td>11:30:58</td>     <th>  Log-Likelihood:    </th> <td> -1129.8</td> \n",
       "</tr>\n",
       "<tr>\n",
       "  <th>converged:</th>           <td>True</td>       <th>  LL-Null:           </th> <td> -1195.6</td> \n",
       "</tr>\n",
       "<tr>\n",
       "  <th> </th>                      <td> </td>        <th>  LLR p-value:       </th> <td>2.906e-22</td>\n",
       "</tr>\n",
       "</table>\n",
       "<table class=\"simpletable\">\n",
       "<tr>\n",
       "     <td></td>        <th>coef</th>     <th>std err</th>      <th>z</th>      <th>P>|z|</th> <th>[95.0% Conf. Int.]</th> \n",
       "</tr>\n",
       "<tr>\n",
       "  <th>AGE_12</th>  <td>   -5.1825</td> <td>    0.711</td> <td>   -7.289</td> <td> 0.000</td> <td>   -6.576    -3.789</td>\n",
       "</tr>\n",
       "<tr>\n",
       "  <th>AGE_13</th>  <td>   -4.2091</td> <td>    0.360</td> <td>  -11.692</td> <td> 0.000</td> <td>   -4.915    -3.504</td>\n",
       "</tr>\n",
       "<tr>\n",
       "  <th>AGE_14</th>  <td>   -3.4525</td> <td>    0.239</td> <td>  -14.438</td> <td> 0.000</td> <td>   -3.921    -2.984</td>\n",
       "</tr>\n",
       "<tr>\n",
       "  <th>AGE_15</th>  <td>   -2.6341</td> <td>    0.167</td> <td>  -15.810</td> <td> 0.000</td> <td>   -2.961    -2.308</td>\n",
       "</tr>\n",
       "<tr>\n",
       "  <th>AGE_16</th>  <td>   -2.3376</td> <td>    0.152</td> <td>  -15.357</td> <td> 0.000</td> <td>   -2.636    -2.039</td>\n",
       "</tr>\n",
       "<tr>\n",
       "  <th>AGE_17</th>  <td>   -2.2880</td> <td>    0.155</td> <td>  -14.756</td> <td> 0.000</td> <td>   -2.592    -1.984</td>\n",
       "</tr>\n",
       "<tr>\n",
       "  <th>AGE_18</th>  <td>   -2.1373</td> <td>    0.153</td> <td>  -13.934</td> <td> 0.000</td> <td>   -2.438    -1.837</td>\n",
       "</tr>\n",
       "<tr>\n",
       "  <th>AGE_19</th>  <td>   -1.9645</td> <td>    0.155</td> <td>  -12.685</td> <td> 0.000</td> <td>   -2.268    -1.661</td>\n",
       "</tr>\n",
       "<tr>\n",
       "  <th>AGE_20</th>  <td>   -2.3929</td> <td>    0.240</td> <td>   -9.979</td> <td> 0.000</td> <td>   -2.863    -1.923</td>\n",
       "</tr>\n",
       "<tr>\n",
       "  <th>AGE_21</th>  <td>   -1.8487</td> <td>    0.304</td> <td>   -6.089</td> <td> 0.000</td> <td>   -2.444    -1.254</td>\n",
       "</tr>\n",
       "<tr>\n",
       "  <th>AGE_22</th>  <td>   -2.0740</td> <td>    0.478</td> <td>   -4.339</td> <td> 0.000</td> <td>   -3.011    -1.137</td>\n",
       "</tr>\n",
       "<tr>\n",
       "  <th>AGE_23+</th> <td>   -2.2575</td> <td>    0.472</td> <td>   -4.781</td> <td> 0.000</td> <td>   -3.183    -1.332</td>\n",
       "</tr>\n",
       "<tr>\n",
       "  <th>SAT</th>     <td>   -0.0107</td> <td>    0.116</td> <td>   -0.092</td> <td> 0.927</td> <td>   -0.238     0.217</td>\n",
       "</tr>\n",
       "</table>"
      ],
      "text/plain": [
       "<class 'statsmodels.iolib.summary.Summary'>\n",
       "\"\"\"\n",
       "                           Logit Regression Results                           \n",
       "==============================================================================\n",
       "Dep. Variable:                      Y   No. Observations:                 4748\n",
       "Model:                          Logit   Df Residuals:                     4735\n",
       "Method:                           MLE   Df Model:                           12\n",
       "Date:                Thu, 20 Apr 2017   Pseudo R-squ.:                 0.05505\n",
       "Time:                        11:30:58   Log-Likelihood:                -1129.8\n",
       "converged:                       True   LL-Null:                       -1195.6\n",
       "                                        LLR p-value:                 2.906e-22\n",
       "==============================================================================\n",
       "                 coef    std err          z      P>|z|      [95.0% Conf. Int.]\n",
       "------------------------------------------------------------------------------\n",
       "AGE_12        -5.1825      0.711     -7.289      0.000        -6.576    -3.789\n",
       "AGE_13        -4.2091      0.360    -11.692      0.000        -4.915    -3.504\n",
       "AGE_14        -3.4525      0.239    -14.438      0.000        -3.921    -2.984\n",
       "AGE_15        -2.6341      0.167    -15.810      0.000        -2.961    -2.308\n",
       "AGE_16        -2.3376      0.152    -15.357      0.000        -2.636    -2.039\n",
       "AGE_17        -2.2880      0.155    -14.756      0.000        -2.592    -1.984\n",
       "AGE_18        -2.1373      0.153    -13.934      0.000        -2.438    -1.837\n",
       "AGE_19        -1.9645      0.155    -12.685      0.000        -2.268    -1.661\n",
       "AGE_20        -2.3929      0.240     -9.979      0.000        -2.863    -1.923\n",
       "AGE_21        -1.8487      0.304     -6.089      0.000        -2.444    -1.254\n",
       "AGE_22        -2.0740      0.478     -4.339      0.000        -3.011    -1.137\n",
       "AGE_23+       -2.2575      0.472     -4.781      0.000        -3.183    -1.332\n",
       "SAT           -0.0107      0.116     -0.092      0.927        -0.238     0.217\n",
       "==============================================================================\n",
       "\"\"\""
      ]
     },
     "execution_count": 146,
     "metadata": {},
     "output_type": "execute_result"
    }
   ],
   "source": [
    "# Add SAT indicator to independent variables\n",
    "cols.append('SAT')\n",
    "X = PersonYear[cols]\n",
    "# Fit logit model of marriage indicator\n",
    "mod = sm.Logit(PersonYear['Y'], X)\n",
    "res = mod.fit()\n",
    "res.summary()"
   ]
  },
  {
   "cell_type": "markdown",
   "metadata": {},
   "source": [
    "Prior research on the SAT program has suggested that it increases the empowerment of female students, so we might expect to find that being in an SAT village decreases the hazard rate of marriage at an early age. Howver, the coefficient on SAT is small and statistically insignificant ($|z| < 0.1$). This means we cannot reject the null hypothesis that exposure to the SAT tutorial model has no effect on age of first marriage. This is not entirely unexpected, given that the intervention was not targeted at reducing early marriage specifically, and the effects of better middle-school education on marriage age are not *a priori* clear."
   ]
  }
 ],
 "metadata": {
  "kernelspec": {
   "display_name": "Python 3",
   "language": "python",
   "name": "python3"
  },
  "language_info": {
   "codemirror_mode": {
    "name": "ipython",
    "version": 3
   },
   "file_extension": ".py",
   "mimetype": "text/x-python",
   "name": "python",
   "nbconvert_exporter": "python",
   "pygments_lexer": "ipython3",
   "version": "3.4.3"
  }
 },
 "nbformat": 4,
 "nbformat_minor": 2
}
